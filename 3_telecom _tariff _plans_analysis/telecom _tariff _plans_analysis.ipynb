{
 "cells": [
  {
   "cell_type": "markdown",
   "metadata": {},
   "source": [
    "### Table of Contents\n",
    "* [Project Description](#chapter)\n",
    "\n",
    "* [Chapter 1: Open the data file and study the general information](#chapter1)\n",
    "    * [Section 1.1: Open the Data File](#section_1_1)\n",
    "    * [Section 1.2: Conclusion](#section_1_2)\n",
    "      \n",
    " \n",
    "* [Chapter 2: Prepare the data](#chapter2)\n",
    "    * [Section 2.1: Convert the data to the necessary types](#section_2_1)\n",
    "    * [Section 2.2: Find and eliminate errors in the data](#section_2_2)\n",
    "    * [Section 2.3: The number of calls made and minutes used per month](#section_2_3)\n",
    "    * [Section 2.4: The number of text messages sent per month](#section_2_4)\n",
    "    * [Section 2.5: The volume of data per month](#section_2_5)\n",
    "    * [Section 2.6: The monthly revenue from each user](#section_2_6)\n",
    "    * [Section 2.7: Conclusion](#section_2_6)\n",
    "    \n",
    "\n",
    "* [Chapter 3: Analyze the data](#chapter3)\n",
    "    * [Section 3.1: Describe the customers' behavior and yisualization by histogram](#section_3_1)\n",
    "    * [Section 3.2: Conclusion.](#section_3_2)\n",
    "\n",
    "    \n",
    "* [Chapter 4:  Test the hypotheses](#chapter4)\n",
    "    * [Section 4.1: The average revenue from users of Ultimate and Surf calling plans differs.](#section_4_1)\n",
    "    * [Section 4.2: The average revenue from users in NY-NJ area is different from that of the users from other regions.](#section_4_2)\n",
    "    * [Section 4.3: Conclusion.](#section_4_3)\n",
    "    \n",
    "    \n",
    "* [Chapter 5: Conclusion](#chapter5)"
   ]
  },
  {
   "cell_type": "markdown",
   "metadata": {},
   "source": [
    "### Chapter : Project description <a class=\"anchor\" id=\"chapter\"></a>\n"
   ]
  },
  {
   "cell_type": "markdown",
   "metadata": {},
   "source": [
    "A telecom company offers its clients two prepaid plans, Surf and Ultimate. The commercial department wants to know which of the plans brings in more revenue in order to adjust the advertising budget.\n",
    "\n",
    "A preliminary analysis of the plans based on a relatively small client selection. The data is provided on 500 Megaline clients: who the clients are, where they're from, which plan they use, and the number of calls they made and text messages they sent in 2018. The final goal is to analyze clients' behavior and determine which prepaid plan brings in more revenue.\n",
    "\n",
    "### Description of the plans\n",
    "\n",
    "Note: Megaline rounds seconds up to minutes, and megabytes to gigabytes. For calls, each individual call is rounded up: even if the call lasted just one second, it will be counted as one minute. For web traffic, individual web sessions are not rounded up. Instead, the total for the month is rounded up. If someone uses 1025 megabytes this month, they will be charged for 2 gigabytes.\n",
    "\n",
    "__Surf__\n",
    "\n",
    "Monthly charge: $20\n",
    "\n",
    "500 monthly minutes, 50 texts, and 15 GB of data\n",
    "\n",
    "After exceeding the package limits:\n",
    "\n",
    "1. minute: 3 cents\n",
    "2. text message: 3 cents\n",
    "3. GB of data: $10\n",
    "\n",
    "__Ultimate__\n",
    "\n",
    "Monthly charge: $70\n",
    "\n",
    "3000 monthly minutes, 1000 text messages, and 30 GB of data\n",
    "\n",
    "After exceeding the package limits:\n",
    "\n",
    "1. minute: 1 cent\n",
    "\n",
    "2. text message: 1 cent\n",
    "\n",
    "3. GB of data: $7"
   ]
  },
  {
   "cell_type": "markdown",
   "metadata": {},
   "source": [
    "### Chapter 1: Open the data file and study the general information <a class=\"anchor\" id=\"chapter1\"></a>"
   ]
  },
  {
   "cell_type": "markdown",
   "metadata": {},
   "source": [
    "#### Section 1.1: Open the data File <a class=\"anchor\" id=\"section_1_1\"></a>"
   ]
  },
  {
   "cell_type": "code",
   "execution_count": 1,
   "metadata": {},
   "outputs": [],
   "source": [
    "import pandas as pd\n",
    "import numpy as np\n",
    "import math\n",
    "import matplotlib.pyplot as plt\n",
    "\n",
    "from functools import reduce"
   ]
  },
  {
   "cell_type": "markdown",
   "metadata": {},
   "source": [
    "The first step, we open all the data files and analyze the genernal information about the features and indicies."
   ]
  },
  {
   "cell_type": "code",
   "execution_count": 2,
   "metadata": {},
   "outputs": [
    {
     "data": {
      "text/html": [
       "<div>\n",
       "<style scoped>\n",
       "    .dataframe tbody tr th:only-of-type {\n",
       "        vertical-align: middle;\n",
       "    }\n",
       "\n",
       "    .dataframe tbody tr th {\n",
       "        vertical-align: top;\n",
       "    }\n",
       "\n",
       "    .dataframe thead th {\n",
       "        text-align: right;\n",
       "    }\n",
       "</style>\n",
       "<table border=\"1\" class=\"dataframe\">\n",
       "  <thead>\n",
       "    <tr style=\"text-align: right;\">\n",
       "      <th></th>\n",
       "      <th>id</th>\n",
       "      <th>user_id</th>\n",
       "      <th>call_date</th>\n",
       "      <th>duration</th>\n",
       "    </tr>\n",
       "  </thead>\n",
       "  <tbody>\n",
       "    <tr>\n",
       "      <th>0</th>\n",
       "      <td>1000_93</td>\n",
       "      <td>1000</td>\n",
       "      <td>2018-12-27</td>\n",
       "      <td>8.52</td>\n",
       "    </tr>\n",
       "    <tr>\n",
       "      <th>1</th>\n",
       "      <td>1000_145</td>\n",
       "      <td>1000</td>\n",
       "      <td>2018-12-27</td>\n",
       "      <td>13.66</td>\n",
       "    </tr>\n",
       "    <tr>\n",
       "      <th>2</th>\n",
       "      <td>1000_247</td>\n",
       "      <td>1000</td>\n",
       "      <td>2018-12-27</td>\n",
       "      <td>14.48</td>\n",
       "    </tr>\n",
       "    <tr>\n",
       "      <th>3</th>\n",
       "      <td>1000_309</td>\n",
       "      <td>1000</td>\n",
       "      <td>2018-12-28</td>\n",
       "      <td>5.76</td>\n",
       "    </tr>\n",
       "    <tr>\n",
       "      <th>4</th>\n",
       "      <td>1000_380</td>\n",
       "      <td>1000</td>\n",
       "      <td>2018-12-30</td>\n",
       "      <td>4.22</td>\n",
       "    </tr>\n",
       "    <tr>\n",
       "      <th>5</th>\n",
       "      <td>1000_388</td>\n",
       "      <td>1000</td>\n",
       "      <td>2018-12-31</td>\n",
       "      <td>2.20</td>\n",
       "    </tr>\n",
       "    <tr>\n",
       "      <th>6</th>\n",
       "      <td>1000_510</td>\n",
       "      <td>1000</td>\n",
       "      <td>2018-12-27</td>\n",
       "      <td>5.75</td>\n",
       "    </tr>\n",
       "    <tr>\n",
       "      <th>7</th>\n",
       "      <td>1000_521</td>\n",
       "      <td>1000</td>\n",
       "      <td>2018-12-28</td>\n",
       "      <td>14.18</td>\n",
       "    </tr>\n",
       "    <tr>\n",
       "      <th>8</th>\n",
       "      <td>1000_530</td>\n",
       "      <td>1000</td>\n",
       "      <td>2018-12-28</td>\n",
       "      <td>5.77</td>\n",
       "    </tr>\n",
       "    <tr>\n",
       "      <th>9</th>\n",
       "      <td>1000_544</td>\n",
       "      <td>1000</td>\n",
       "      <td>2018-12-26</td>\n",
       "      <td>4.40</td>\n",
       "    </tr>\n",
       "  </tbody>\n",
       "</table>\n",
       "</div>"
      ],
      "text/plain": [
       "         id  user_id   call_date  duration\n",
       "0   1000_93     1000  2018-12-27      8.52\n",
       "1  1000_145     1000  2018-12-27     13.66\n",
       "2  1000_247     1000  2018-12-27     14.48\n",
       "3  1000_309     1000  2018-12-28      5.76\n",
       "4  1000_380     1000  2018-12-30      4.22\n",
       "5  1000_388     1000  2018-12-31      2.20\n",
       "6  1000_510     1000  2018-12-27      5.75\n",
       "7  1000_521     1000  2018-12-28     14.18\n",
       "8  1000_530     1000  2018-12-28      5.77\n",
       "9  1000_544     1000  2018-12-26      4.40"
      ]
     },
     "execution_count": 2,
     "metadata": {},
     "output_type": "execute_result"
    }
   ],
   "source": [
    "try:\n",
    "    data_calls=pd.read_csv('/datasets/megaline_calls.csv')\n",
    "except:\n",
    "    data_calls=pd.read_csv(r\"C:\\Users\\engrz\\Python Projects\\practicum\\Sprint_3_Statistical_Data_Analysis\\megaline_calls.csv\")\n",
    "data_calls.head(10)"
   ]
  },
  {
   "cell_type": "code",
   "execution_count": 3,
   "metadata": {},
   "outputs": [
    {
     "name": "stdout",
     "output_type": "stream",
     "text": [
      "<class 'pandas.core.frame.DataFrame'>\n",
      "RangeIndex: 137735 entries, 0 to 137734\n",
      "Data columns (total 4 columns):\n",
      " #   Column     Non-Null Count   Dtype  \n",
      "---  ------     --------------   -----  \n",
      " 0   id         137735 non-null  object \n",
      " 1   user_id    137735 non-null  int64  \n",
      " 2   call_date  137735 non-null  object \n",
      " 3   duration   137735 non-null  float64\n",
      "dtypes: float64(1), int64(1), object(2)\n",
      "memory usage: 4.2+ MB\n"
     ]
    }
   ],
   "source": [
    "data_calls.info()"
   ]
  },
  {
   "cell_type": "code",
   "execution_count": 4,
   "metadata": {},
   "outputs": [
    {
     "data": {
      "text/html": [
       "<div>\n",
       "<style scoped>\n",
       "    .dataframe tbody tr th:only-of-type {\n",
       "        vertical-align: middle;\n",
       "    }\n",
       "\n",
       "    .dataframe tbody tr th {\n",
       "        vertical-align: top;\n",
       "    }\n",
       "\n",
       "    .dataframe thead th {\n",
       "        text-align: right;\n",
       "    }\n",
       "</style>\n",
       "<table border=\"1\" class=\"dataframe\">\n",
       "  <thead>\n",
       "    <tr style=\"text-align: right;\">\n",
       "      <th></th>\n",
       "      <th>id</th>\n",
       "      <th>user_id</th>\n",
       "      <th>call_date</th>\n",
       "      <th>duration</th>\n",
       "    </tr>\n",
       "  </thead>\n",
       "  <tbody>\n",
       "    <tr>\n",
       "      <th>0</th>\n",
       "      <td>1000_93</td>\n",
       "      <td>1000</td>\n",
       "      <td>2018-12-27</td>\n",
       "      <td>9</td>\n",
       "    </tr>\n",
       "    <tr>\n",
       "      <th>1</th>\n",
       "      <td>1000_145</td>\n",
       "      <td>1000</td>\n",
       "      <td>2018-12-27</td>\n",
       "      <td>14</td>\n",
       "    </tr>\n",
       "    <tr>\n",
       "      <th>2</th>\n",
       "      <td>1000_247</td>\n",
       "      <td>1000</td>\n",
       "      <td>2018-12-27</td>\n",
       "      <td>15</td>\n",
       "    </tr>\n",
       "    <tr>\n",
       "      <th>3</th>\n",
       "      <td>1000_309</td>\n",
       "      <td>1000</td>\n",
       "      <td>2018-12-28</td>\n",
       "      <td>6</td>\n",
       "    </tr>\n",
       "    <tr>\n",
       "      <th>4</th>\n",
       "      <td>1000_380</td>\n",
       "      <td>1000</td>\n",
       "      <td>2018-12-30</td>\n",
       "      <td>5</td>\n",
       "    </tr>\n",
       "  </tbody>\n",
       "</table>\n",
       "</div>"
      ],
      "text/plain": [
       "         id  user_id   call_date  duration\n",
       "0   1000_93     1000  2018-12-27         9\n",
       "1  1000_145     1000  2018-12-27        14\n",
       "2  1000_247     1000  2018-12-27        15\n",
       "3  1000_309     1000  2018-12-28         6\n",
       "4  1000_380     1000  2018-12-30         5"
      ]
     },
     "execution_count": 4,
     "metadata": {},
     "output_type": "execute_result"
    }
   ],
   "source": [
    "#As describe in the data description that megaline round up seconds to minutes we will apply this as below.\n",
    "\n",
    "#math.ceil(2.1)\n",
    "data_calls['duration']=data_calls['duration'].apply(lambda x: math.ceil(float(x)))\n",
    "data_calls.head()"
   ]
  },
  {
   "cell_type": "markdown",
   "metadata": {},
   "source": [
    "There are total 13775 rows and 4 columns named as id, which represents the unique user identifier, user_id, the identifier of the user making the call. call_date and duration of the call. One thing will be noted, even the call duration is one second it will be counted as 1 minute and the 0 call duration represents the miss call by user. The duration of calls has also rounded up to next integer as description of the data that even call duration is i.e. 20 seconds it will be count as 1 minute. we have apply the ceil function and converted our dataset values.\n",
    "\n",
    "Below we will check number of missed calls."
   ]
  },
  {
   "cell_type": "code",
   "execution_count": 5,
   "metadata": {},
   "outputs": [
    {
     "data": {
      "text/plain": [
       "id           26834\n",
       "user_id      26834\n",
       "call_date    26834\n",
       "duration     26834\n",
       "dtype: int64"
      ]
     },
     "execution_count": 5,
     "metadata": {},
     "output_type": "execute_result"
    }
   ],
   "source": [
    "missed_calls=data_calls[data_calls['duration']==0].count()\n",
    "missed_calls"
   ]
  },
  {
   "cell_type": "code",
   "execution_count": 6,
   "metadata": {},
   "outputs": [],
   "source": [
    "missed_rows=data_calls[data_calls['duration']==0]"
   ]
  },
  {
   "cell_type": "code",
   "execution_count": 7,
   "metadata": {},
   "outputs": [
    {
     "data": {
      "text/plain": [
       "id           19.482339\n",
       "user_id      19.482339\n",
       "call_date    19.482339\n",
       "duration     19.482339\n",
       "dtype: float64"
      ]
     },
     "execution_count": 7,
     "metadata": {},
     "output_type": "execute_result"
    }
   ],
   "source": [
    "missed_calls/len(data_calls)*100"
   ]
  },
  {
   "cell_type": "markdown",
   "metadata": {},
   "source": [
    "There are total 26834 no. of miss called which makes 19% of total data entries. We will visualize the duration columns by histogram and observe the behaviour of missed calls that how are the impacting out data set."
   ]
  },
  {
   "cell_type": "code",
   "execution_count": 8,
   "metadata": {},
   "outputs": [
    {
     "data": {
      "image/png": "[encoded data removed]",
      "text/plain": [
       "<Figure size 432x288 with 1 Axes>"
      ]
     },
     "metadata": {
      "needs_background": "light"
     },
     "output_type": "display_data"
    }
   ],
   "source": [
    "data_calls.hist('duration', bins=100);"
   ]
  },
  {
   "cell_type": "code",
   "execution_count": 9,
   "metadata": {},
   "outputs": [],
   "source": [
    "#data_calls.drop(data_calls[data_calls.duration==0])\n",
    "data_calls.drop(data_calls[data_calls['duration'] ==0 ].index, inplace = True) "
   ]
  },
  {
   "cell_type": "markdown",
   "metadata": {},
   "source": [
    "From the histogram the peak at 0 represents the missed calls and the observations tell that it will impact our data set as negative(skesness). We will delete these rows/outliers to avoid skewness."
   ]
  },
  {
   "cell_type": "code",
   "execution_count": 10,
   "metadata": {},
   "outputs": [
    {
     "name": "stdout",
     "output_type": "stream",
     "text": [
      "<class 'pandas.core.frame.DataFrame'>\n",
      "Int64Index: 110901 entries, 0 to 137734\n",
      "Data columns (total 4 columns):\n",
      " #   Column     Non-Null Count   Dtype \n",
      "---  ------     --------------   ----- \n",
      " 0   id         110901 non-null  object\n",
      " 1   user_id    110901 non-null  int64 \n",
      " 2   call_date  110901 non-null  object\n",
      " 3   duration   110901 non-null  int64 \n",
      "dtypes: int64(2), object(2)\n",
      "memory usage: 4.2+ MB\n"
     ]
    }
   ],
   "source": [
    "data_calls.info()"
   ]
  },
  {
   "cell_type": "markdown",
   "metadata": {},
   "source": [
    "We have deleted the call duration==0 entries ans will draw again to observe the data behaviour."
   ]
  },
  {
   "cell_type": "code",
   "execution_count": 11,
   "metadata": {},
   "outputs": [
    {
     "data": {
      "image/png": "[encoded data removed]",
      "text/plain": [
       "<Figure size 432x288 with 1 Axes>"
      ]
     },
     "metadata": {
      "needs_background": "light"
     },
     "output_type": "display_data"
    }
   ],
   "source": [
    "data_calls.hist('duration', bins=100);"
   ]
  },
  {
   "cell_type": "markdown",
   "metadata": {},
   "source": [
    "Now it gives us a more clear picture of dataset. We can check that the normal call duration is 4-9 mintures.\n",
    "\n",
    "Next we will load the second dataset and observe the it."
   ]
  },
  {
   "cell_type": "code",
   "execution_count": 12,
   "metadata": {},
   "outputs": [
    {
     "data": {
      "text/html": [
       "<div>\n",
       "<style scoped>\n",
       "    .dataframe tbody tr th:only-of-type {\n",
       "        vertical-align: middle;\n",
       "    }\n",
       "\n",
       "    .dataframe tbody tr th {\n",
       "        vertical-align: top;\n",
       "    }\n",
       "\n",
       "    .dataframe thead th {\n",
       "        text-align: right;\n",
       "    }\n",
       "</style>\n",
       "<table border=\"1\" class=\"dataframe\">\n",
       "  <thead>\n",
       "    <tr style=\"text-align: right;\">\n",
       "      <th></th>\n",
       "      <th>id</th>\n",
       "      <th>user_id</th>\n",
       "      <th>session_date</th>\n",
       "      <th>mb_used</th>\n",
       "    </tr>\n",
       "  </thead>\n",
       "  <tbody>\n",
       "    <tr>\n",
       "      <th>0</th>\n",
       "      <td>1000_13</td>\n",
       "      <td>1000</td>\n",
       "      <td>2018-12-29</td>\n",
       "      <td>89.86</td>\n",
       "    </tr>\n",
       "    <tr>\n",
       "      <th>1</th>\n",
       "      <td>1000_204</td>\n",
       "      <td>1000</td>\n",
       "      <td>2018-12-31</td>\n",
       "      <td>0.00</td>\n",
       "    </tr>\n",
       "    <tr>\n",
       "      <th>2</th>\n",
       "      <td>1000_379</td>\n",
       "      <td>1000</td>\n",
       "      <td>2018-12-28</td>\n",
       "      <td>660.40</td>\n",
       "    </tr>\n",
       "    <tr>\n",
       "      <th>3</th>\n",
       "      <td>1000_413</td>\n",
       "      <td>1000</td>\n",
       "      <td>2018-12-26</td>\n",
       "      <td>270.99</td>\n",
       "    </tr>\n",
       "    <tr>\n",
       "      <th>4</th>\n",
       "      <td>1000_442</td>\n",
       "      <td>1000</td>\n",
       "      <td>2018-12-27</td>\n",
       "      <td>880.22</td>\n",
       "    </tr>\n",
       "  </tbody>\n",
       "</table>\n",
       "</div>"
      ],
      "text/plain": [
       "         id  user_id session_date  mb_used\n",
       "0   1000_13     1000   2018-12-29    89.86\n",
       "1  1000_204     1000   2018-12-31     0.00\n",
       "2  1000_379     1000   2018-12-28   660.40\n",
       "3  1000_413     1000   2018-12-26   270.99\n",
       "4  1000_442     1000   2018-12-27   880.22"
      ]
     },
     "execution_count": 12,
     "metadata": {},
     "output_type": "execute_result"
    }
   ],
   "source": [
    "try:\n",
    "    data_internet=pd.read_csv('/datasets/megaline_internet.csv')\n",
    "except:\n",
    "    data_internet=pd.read_csv(r\"C:\\Users\\engrz\\Python Projects\\practicum\\Sprint_3_Statistical_Data_Analysis\\megaline_internet.csv\")\n",
    "data_internet.head()"
   ]
  },
  {
   "cell_type": "code",
   "execution_count": 13,
   "metadata": {},
   "outputs": [
    {
     "name": "stdout",
     "output_type": "stream",
     "text": [
      "<class 'pandas.core.frame.DataFrame'>\n",
      "RangeIndex: 104825 entries, 0 to 104824\n",
      "Data columns (total 4 columns):\n",
      " #   Column        Non-Null Count   Dtype  \n",
      "---  ------        --------------   -----  \n",
      " 0   id            104825 non-null  object \n",
      " 1   user_id       104825 non-null  int64  \n",
      " 2   session_date  104825 non-null  object \n",
      " 3   mb_used       104825 non-null  float64\n",
      "dtypes: float64(1), int64(1), object(2)\n",
      "memory usage: 3.2+ MB\n"
     ]
    }
   ],
   "source": [
    "data_internet.info()"
   ]
  },
  {
   "cell_type": "code",
   "execution_count": 14,
   "metadata": {},
   "outputs": [
    {
     "data": {
      "text/plain": [
       "False"
      ]
     },
     "execution_count": 14,
     "metadata": {},
     "output_type": "execute_result"
    }
   ],
   "source": [
    "data_internet.isnull().values.any()"
   ]
  },
  {
   "cell_type": "markdown",
   "metadata": {},
   "source": [
    "There are total 104825 data indicies and 4 no. of columns. The id and user_id are same as in calls, the session_date represents the day of surfing and mb_used represents how much total mbs have utilized by the customers. We also check for the nan values and found nothing so we can proceed with messages dataset. "
   ]
  },
  {
   "cell_type": "code",
   "execution_count": 15,
   "metadata": {},
   "outputs": [
    {
     "data": {
      "text/html": [
       "<div>\n",
       "<style scoped>\n",
       "    .dataframe tbody tr th:only-of-type {\n",
       "        vertical-align: middle;\n",
       "    }\n",
       "\n",
       "    .dataframe tbody tr th {\n",
       "        vertical-align: top;\n",
       "    }\n",
       "\n",
       "    .dataframe thead th {\n",
       "        text-align: right;\n",
       "    }\n",
       "</style>\n",
       "<table border=\"1\" class=\"dataframe\">\n",
       "  <thead>\n",
       "    <tr style=\"text-align: right;\">\n",
       "      <th></th>\n",
       "      <th>id</th>\n",
       "      <th>user_id</th>\n",
       "      <th>message_date</th>\n",
       "    </tr>\n",
       "  </thead>\n",
       "  <tbody>\n",
       "    <tr>\n",
       "      <th>0</th>\n",
       "      <td>1000_125</td>\n",
       "      <td>1000</td>\n",
       "      <td>2018-12-27</td>\n",
       "    </tr>\n",
       "    <tr>\n",
       "      <th>1</th>\n",
       "      <td>1000_160</td>\n",
       "      <td>1000</td>\n",
       "      <td>2018-12-31</td>\n",
       "    </tr>\n",
       "    <tr>\n",
       "      <th>2</th>\n",
       "      <td>1000_223</td>\n",
       "      <td>1000</td>\n",
       "      <td>2018-12-31</td>\n",
       "    </tr>\n",
       "    <tr>\n",
       "      <th>3</th>\n",
       "      <td>1000_251</td>\n",
       "      <td>1000</td>\n",
       "      <td>2018-12-27</td>\n",
       "    </tr>\n",
       "    <tr>\n",
       "      <th>4</th>\n",
       "      <td>1000_255</td>\n",
       "      <td>1000</td>\n",
       "      <td>2018-12-26</td>\n",
       "    </tr>\n",
       "    <tr>\n",
       "      <th>5</th>\n",
       "      <td>1000_346</td>\n",
       "      <td>1000</td>\n",
       "      <td>2018-12-29</td>\n",
       "    </tr>\n",
       "    <tr>\n",
       "      <th>6</th>\n",
       "      <td>1000_386</td>\n",
       "      <td>1000</td>\n",
       "      <td>2018-12-30</td>\n",
       "    </tr>\n",
       "    <tr>\n",
       "      <th>7</th>\n",
       "      <td>1000_413</td>\n",
       "      <td>1000</td>\n",
       "      <td>2018-12-31</td>\n",
       "    </tr>\n",
       "    <tr>\n",
       "      <th>8</th>\n",
       "      <td>1000_502</td>\n",
       "      <td>1000</td>\n",
       "      <td>2018-12-27</td>\n",
       "    </tr>\n",
       "    <tr>\n",
       "      <th>9</th>\n",
       "      <td>1000_525</td>\n",
       "      <td>1000</td>\n",
       "      <td>2018-12-28</td>\n",
       "    </tr>\n",
       "  </tbody>\n",
       "</table>\n",
       "</div>"
      ],
      "text/plain": [
       "         id  user_id message_date\n",
       "0  1000_125     1000   2018-12-27\n",
       "1  1000_160     1000   2018-12-31\n",
       "2  1000_223     1000   2018-12-31\n",
       "3  1000_251     1000   2018-12-27\n",
       "4  1000_255     1000   2018-12-26\n",
       "5  1000_346     1000   2018-12-29\n",
       "6  1000_386     1000   2018-12-30\n",
       "7  1000_413     1000   2018-12-31\n",
       "8  1000_502     1000   2018-12-27\n",
       "9  1000_525     1000   2018-12-28"
      ]
     },
     "execution_count": 15,
     "metadata": {},
     "output_type": "execute_result"
    }
   ],
   "source": [
    "try:\n",
    "    data_message=pd.read_csv('/datasets/megaline_messages.csv')\n",
    "except:\n",
    "    data_message=pd.read_csv(r\"C:\\Users\\engrz\\Python Projects\\practicum\\Sprint_3_Statistical_Data_Analysis\\megaline_messages.csv\")\n",
    "data_message.head(10)"
   ]
  },
  {
   "cell_type": "code",
   "execution_count": 16,
   "metadata": {},
   "outputs": [
    {
     "name": "stdout",
     "output_type": "stream",
     "text": [
      "<class 'pandas.core.frame.DataFrame'>\n",
      "RangeIndex: 76051 entries, 0 to 76050\n",
      "Data columns (total 3 columns):\n",
      " #   Column        Non-Null Count  Dtype \n",
      "---  ------        --------------  ----- \n",
      " 0   id            76051 non-null  object\n",
      " 1   user_id       76051 non-null  int64 \n",
      " 2   message_date  76051 non-null  object\n",
      "dtypes: int64(1), object(2)\n",
      "memory usage: 1.7+ MB\n"
     ]
    }
   ],
   "source": [
    "data_message.info()"
   ]
  },
  {
   "cell_type": "code",
   "execution_count": 17,
   "metadata": {},
   "outputs": [
    {
     "data": {
      "text/plain": [
       "False"
      ]
     },
     "execution_count": 17,
     "metadata": {},
     "output_type": "execute_result"
    }
   ],
   "source": [
    "data_message.isnull().values.any()"
   ]
  },
  {
   "cell_type": "markdown",
   "metadata": {},
   "source": [
    "There are total 76051 data indicies and 3 no. of columns. The id and user_id are same as in calls, the message_date represents the day of sending the message. We also check for the nan values and found nothing so we can proceed with data_plans dataset. "
   ]
  },
  {
   "cell_type": "code",
   "execution_count": 18,
   "metadata": {},
   "outputs": [
    {
     "data": {
      "text/html": [
       "<div>\n",
       "<style scoped>\n",
       "    .dataframe tbody tr th:only-of-type {\n",
       "        vertical-align: middle;\n",
       "    }\n",
       "\n",
       "    .dataframe tbody tr th {\n",
       "        vertical-align: top;\n",
       "    }\n",
       "\n",
       "    .dataframe thead th {\n",
       "        text-align: right;\n",
       "    }\n",
       "</style>\n",
       "<table border=\"1\" class=\"dataframe\">\n",
       "  <thead>\n",
       "    <tr style=\"text-align: right;\">\n",
       "      <th></th>\n",
       "      <th>messages_included</th>\n",
       "      <th>mb_per_month_included</th>\n",
       "      <th>minutes_included</th>\n",
       "      <th>usd_monthly_pay</th>\n",
       "      <th>usd_per_gb</th>\n",
       "      <th>usd_per_message</th>\n",
       "      <th>usd_per_minute</th>\n",
       "      <th>plan_name</th>\n",
       "    </tr>\n",
       "  </thead>\n",
       "  <tbody>\n",
       "    <tr>\n",
       "      <th>0</th>\n",
       "      <td>50</td>\n",
       "      <td>15360</td>\n",
       "      <td>500</td>\n",
       "      <td>20</td>\n",
       "      <td>10</td>\n",
       "      <td>0.03</td>\n",
       "      <td>0.03</td>\n",
       "      <td>surf</td>\n",
       "    </tr>\n",
       "    <tr>\n",
       "      <th>1</th>\n",
       "      <td>1000</td>\n",
       "      <td>30720</td>\n",
       "      <td>3000</td>\n",
       "      <td>70</td>\n",
       "      <td>7</td>\n",
       "      <td>0.01</td>\n",
       "      <td>0.01</td>\n",
       "      <td>ultimate</td>\n",
       "    </tr>\n",
       "  </tbody>\n",
       "</table>\n",
       "</div>"
      ],
      "text/plain": [
       "   messages_included  mb_per_month_included  minutes_included  \\\n",
       "0                 50                  15360               500   \n",
       "1               1000                  30720              3000   \n",
       "\n",
       "   usd_monthly_pay  usd_per_gb  usd_per_message  usd_per_minute plan_name  \n",
       "0               20          10             0.03            0.03      surf  \n",
       "1               70           7             0.01            0.01  ultimate  "
      ]
     },
     "execution_count": 18,
     "metadata": {},
     "output_type": "execute_result"
    }
   ],
   "source": [
    "try:\n",
    "    data_plans=pd.read_csv('/datasets/megaline_plans.csv')\n",
    "except:\n",
    "    data_plans=pd.read_csv(r\"C:\\Users\\engrz\\Python Projects\\practicum\\Sprint_3_Statistical_Data_Analysis\\megaline_plans.csv\")\n",
    "data_plans.head(10)"
   ]
  },
  {
   "cell_type": "markdown",
   "metadata": {},
   "source": [
    "The data_plans dataset represents the two type of monthly plan by megaline which are surf and ultimate."
   ]
  },
  {
   "cell_type": "code",
   "execution_count": 19,
   "metadata": {},
   "outputs": [
    {
     "data": {
      "text/html": [
       "<div>\n",
       "<style scoped>\n",
       "    .dataframe tbody tr th:only-of-type {\n",
       "        vertical-align: middle;\n",
       "    }\n",
       "\n",
       "    .dataframe tbody tr th {\n",
       "        vertical-align: top;\n",
       "    }\n",
       "\n",
       "    .dataframe thead th {\n",
       "        text-align: right;\n",
       "    }\n",
       "</style>\n",
       "<table border=\"1\" class=\"dataframe\">\n",
       "  <thead>\n",
       "    <tr style=\"text-align: right;\">\n",
       "      <th></th>\n",
       "      <th>user_id</th>\n",
       "      <th>first_name</th>\n",
       "      <th>last_name</th>\n",
       "      <th>age</th>\n",
       "      <th>city</th>\n",
       "      <th>reg_date</th>\n",
       "      <th>plan</th>\n",
       "      <th>churn_date</th>\n",
       "    </tr>\n",
       "  </thead>\n",
       "  <tbody>\n",
       "    <tr>\n",
       "      <th>0</th>\n",
       "      <td>1000</td>\n",
       "      <td>Anamaria</td>\n",
       "      <td>Bauer</td>\n",
       "      <td>45</td>\n",
       "      <td>Atlanta-Sandy Springs-Roswell, GA MSA</td>\n",
       "      <td>2018-12-24</td>\n",
       "      <td>ultimate</td>\n",
       "      <td>NaN</td>\n",
       "    </tr>\n",
       "    <tr>\n",
       "      <th>1</th>\n",
       "      <td>1001</td>\n",
       "      <td>Mickey</td>\n",
       "      <td>Wilkerson</td>\n",
       "      <td>28</td>\n",
       "      <td>Seattle-Tacoma-Bellevue, WA MSA</td>\n",
       "      <td>2018-08-13</td>\n",
       "      <td>surf</td>\n",
       "      <td>NaN</td>\n",
       "    </tr>\n",
       "    <tr>\n",
       "      <th>2</th>\n",
       "      <td>1002</td>\n",
       "      <td>Carlee</td>\n",
       "      <td>Hoffman</td>\n",
       "      <td>36</td>\n",
       "      <td>Las Vegas-Henderson-Paradise, NV MSA</td>\n",
       "      <td>2018-10-21</td>\n",
       "      <td>surf</td>\n",
       "      <td>NaN</td>\n",
       "    </tr>\n",
       "    <tr>\n",
       "      <th>3</th>\n",
       "      <td>1003</td>\n",
       "      <td>Reynaldo</td>\n",
       "      <td>Jenkins</td>\n",
       "      <td>52</td>\n",
       "      <td>Tulsa, OK MSA</td>\n",
       "      <td>2018-01-28</td>\n",
       "      <td>surf</td>\n",
       "      <td>NaN</td>\n",
       "    </tr>\n",
       "    <tr>\n",
       "      <th>4</th>\n",
       "      <td>1004</td>\n",
       "      <td>Leonila</td>\n",
       "      <td>Thompson</td>\n",
       "      <td>40</td>\n",
       "      <td>Seattle-Tacoma-Bellevue, WA MSA</td>\n",
       "      <td>2018-05-23</td>\n",
       "      <td>surf</td>\n",
       "      <td>NaN</td>\n",
       "    </tr>\n",
       "  </tbody>\n",
       "</table>\n",
       "</div>"
      ],
      "text/plain": [
       "   user_id first_name  last_name  age                                   city  \\\n",
       "0     1000   Anamaria      Bauer   45  Atlanta-Sandy Springs-Roswell, GA MSA   \n",
       "1     1001     Mickey  Wilkerson   28        Seattle-Tacoma-Bellevue, WA MSA   \n",
       "2     1002     Carlee    Hoffman   36   Las Vegas-Henderson-Paradise, NV MSA   \n",
       "3     1003   Reynaldo    Jenkins   52                          Tulsa, OK MSA   \n",
       "4     1004    Leonila   Thompson   40        Seattle-Tacoma-Bellevue, WA MSA   \n",
       "\n",
       "     reg_date      plan churn_date  \n",
       "0  2018-12-24  ultimate        NaN  \n",
       "1  2018-08-13      surf        NaN  \n",
       "2  2018-10-21      surf        NaN  \n",
       "3  2018-01-28      surf        NaN  \n",
       "4  2018-05-23      surf        NaN  "
      ]
     },
     "execution_count": 19,
     "metadata": {},
     "output_type": "execute_result"
    }
   ],
   "source": [
    "try:\n",
    "    data_users=pd.read_csv('/datasets/megaline_users.csv')\n",
    "except:\n",
    "    data_users=pd.read_csv(r\"C:\\Users\\engrz\\Python Projects\\practicum\\Sprint_3_Statistical_Data_Analysis\\megaline_users.csv\")\n",
    "data_users.head()"
   ]
  },
  {
   "cell_type": "code",
   "execution_count": 20,
   "metadata": {},
   "outputs": [
    {
     "data": {
      "text/plain": [
       "True"
      ]
     },
     "execution_count": 20,
     "metadata": {},
     "output_type": "execute_result"
    }
   ],
   "source": [
    "data_users.isnull().values.any()"
   ]
  },
  {
   "cell_type": "markdown",
   "metadata": {},
   "source": [
    "In data_users dataset gives information of user_id, name of customers, age, city, the date of joining the company, the plan and if the customers is still subcribe the plan or left it. There are nan values in churn_date which represents the customer is still using the offer."
   ]
  },
  {
   "cell_type": "markdown",
   "metadata": {},
   "source": [
    "#### Section 1.2:  Conclusion <a class=\"anchor\" id=\"section_1_1\"></a>"
   ]
  },
  {
   "cell_type": "markdown",
   "metadata": {},
   "source": [
    "In chapter 1, the all data files data_calls, data_users, data_minutes, data_internet, and data_plan is imported to the notebook. In data_calls as the megaline describe there are indicies with value 0 and these values represents the missed calls. We draw the histogram and observe the behavior of these values equal to zero. These were creating the skewness and we concluded them as outliers and remove missed calls values from data. After theat we round up the seconds values as megaline consider less than a minute values as a minutes. The next data_sets have no missing values or data_error so they are ready for further analysis."
   ]
  },
  {
   "cell_type": "markdown",
   "metadata": {},
   "source": [
    "### Chapter 2: Prepare the Data <a class=\"anchor\" id=\"chapter2\"></a>"
   ]
  },
  {
   "cell_type": "markdown",
   "metadata": {},
   "source": [
    "#### Section 2.1: Convert the data to the necessary types<a class=\"anchor\" id=\"section_2_1\"></a>"
   ]
  },
  {
   "cell_type": "markdown",
   "metadata": {},
   "source": [
    "The datasets columns, calls_date, session_date, and message_date were converted into date_time format and also added the month column for each dataset."
   ]
  },
  {
   "cell_type": "code",
   "execution_count": 21,
   "metadata": {},
   "outputs": [
    {
     "data": {
      "text/html": [
       "<div>\n",
       "<style scoped>\n",
       "    .dataframe tbody tr th:only-of-type {\n",
       "        vertical-align: middle;\n",
       "    }\n",
       "\n",
       "    .dataframe tbody tr th {\n",
       "        vertical-align: top;\n",
       "    }\n",
       "\n",
       "    .dataframe thead th {\n",
       "        text-align: right;\n",
       "    }\n",
       "</style>\n",
       "<table border=\"1\" class=\"dataframe\">\n",
       "  <thead>\n",
       "    <tr style=\"text-align: right;\">\n",
       "      <th></th>\n",
       "      <th>id</th>\n",
       "      <th>user_id</th>\n",
       "      <th>call_date</th>\n",
       "      <th>duration</th>\n",
       "      <th>month</th>\n",
       "    </tr>\n",
       "  </thead>\n",
       "  <tbody>\n",
       "    <tr>\n",
       "      <th>0</th>\n",
       "      <td>1000_93</td>\n",
       "      <td>1000</td>\n",
       "      <td>2018-12-27</td>\n",
       "      <td>9</td>\n",
       "      <td>12</td>\n",
       "    </tr>\n",
       "    <tr>\n",
       "      <th>1</th>\n",
       "      <td>1000_145</td>\n",
       "      <td>1000</td>\n",
       "      <td>2018-12-27</td>\n",
       "      <td>14</td>\n",
       "      <td>12</td>\n",
       "    </tr>\n",
       "    <tr>\n",
       "      <th>2</th>\n",
       "      <td>1000_247</td>\n",
       "      <td>1000</td>\n",
       "      <td>2018-12-27</td>\n",
       "      <td>15</td>\n",
       "      <td>12</td>\n",
       "    </tr>\n",
       "    <tr>\n",
       "      <th>3</th>\n",
       "      <td>1000_309</td>\n",
       "      <td>1000</td>\n",
       "      <td>2018-12-28</td>\n",
       "      <td>6</td>\n",
       "      <td>12</td>\n",
       "    </tr>\n",
       "    <tr>\n",
       "      <th>4</th>\n",
       "      <td>1000_380</td>\n",
       "      <td>1000</td>\n",
       "      <td>2018-12-30</td>\n",
       "      <td>5</td>\n",
       "      <td>12</td>\n",
       "    </tr>\n",
       "  </tbody>\n",
       "</table>\n",
       "</div>"
      ],
      "text/plain": [
       "         id  user_id  call_date  duration  month\n",
       "0   1000_93     1000 2018-12-27         9     12\n",
       "1  1000_145     1000 2018-12-27        14     12\n",
       "2  1000_247     1000 2018-12-27        15     12\n",
       "3  1000_309     1000 2018-12-28         6     12\n",
       "4  1000_380     1000 2018-12-30         5     12"
      ]
     },
     "metadata": {},
     "output_type": "display_data"
    },
    {
     "data": {
      "text/html": [
       "<div>\n",
       "<style scoped>\n",
       "    .dataframe tbody tr th:only-of-type {\n",
       "        vertical-align: middle;\n",
       "    }\n",
       "\n",
       "    .dataframe tbody tr th {\n",
       "        vertical-align: top;\n",
       "    }\n",
       "\n",
       "    .dataframe thead th {\n",
       "        text-align: right;\n",
       "    }\n",
       "</style>\n",
       "<table border=\"1\" class=\"dataframe\">\n",
       "  <thead>\n",
       "    <tr style=\"text-align: right;\">\n",
       "      <th></th>\n",
       "      <th>id</th>\n",
       "      <th>user_id</th>\n",
       "      <th>session_date</th>\n",
       "      <th>mb_used</th>\n",
       "      <th>month</th>\n",
       "    </tr>\n",
       "  </thead>\n",
       "  <tbody>\n",
       "    <tr>\n",
       "      <th>0</th>\n",
       "      <td>1000_13</td>\n",
       "      <td>1000</td>\n",
       "      <td>2018-12-29</td>\n",
       "      <td>89.86</td>\n",
       "      <td>12</td>\n",
       "    </tr>\n",
       "    <tr>\n",
       "      <th>1</th>\n",
       "      <td>1000_204</td>\n",
       "      <td>1000</td>\n",
       "      <td>2018-12-31</td>\n",
       "      <td>0.00</td>\n",
       "      <td>12</td>\n",
       "    </tr>\n",
       "    <tr>\n",
       "      <th>2</th>\n",
       "      <td>1000_379</td>\n",
       "      <td>1000</td>\n",
       "      <td>2018-12-28</td>\n",
       "      <td>660.40</td>\n",
       "      <td>12</td>\n",
       "    </tr>\n",
       "    <tr>\n",
       "      <th>3</th>\n",
       "      <td>1000_413</td>\n",
       "      <td>1000</td>\n",
       "      <td>2018-12-26</td>\n",
       "      <td>270.99</td>\n",
       "      <td>12</td>\n",
       "    </tr>\n",
       "    <tr>\n",
       "      <th>4</th>\n",
       "      <td>1000_442</td>\n",
       "      <td>1000</td>\n",
       "      <td>2018-12-27</td>\n",
       "      <td>880.22</td>\n",
       "      <td>12</td>\n",
       "    </tr>\n",
       "  </tbody>\n",
       "</table>\n",
       "</div>"
      ],
      "text/plain": [
       "         id  user_id session_date  mb_used  month\n",
       "0   1000_13     1000   2018-12-29    89.86     12\n",
       "1  1000_204     1000   2018-12-31     0.00     12\n",
       "2  1000_379     1000   2018-12-28   660.40     12\n",
       "3  1000_413     1000   2018-12-26   270.99     12\n",
       "4  1000_442     1000   2018-12-27   880.22     12"
      ]
     },
     "metadata": {},
     "output_type": "display_data"
    },
    {
     "data": {
      "text/html": [
       "<div>\n",
       "<style scoped>\n",
       "    .dataframe tbody tr th:only-of-type {\n",
       "        vertical-align: middle;\n",
       "    }\n",
       "\n",
       "    .dataframe tbody tr th {\n",
       "        vertical-align: top;\n",
       "    }\n",
       "\n",
       "    .dataframe thead th {\n",
       "        text-align: right;\n",
       "    }\n",
       "</style>\n",
       "<table border=\"1\" class=\"dataframe\">\n",
       "  <thead>\n",
       "    <tr style=\"text-align: right;\">\n",
       "      <th></th>\n",
       "      <th>id</th>\n",
       "      <th>user_id</th>\n",
       "      <th>message_date</th>\n",
       "      <th>month</th>\n",
       "    </tr>\n",
       "  </thead>\n",
       "  <tbody>\n",
       "    <tr>\n",
       "      <th>0</th>\n",
       "      <td>1000_125</td>\n",
       "      <td>1000</td>\n",
       "      <td>2018-12-27</td>\n",
       "      <td>12</td>\n",
       "    </tr>\n",
       "    <tr>\n",
       "      <th>1</th>\n",
       "      <td>1000_160</td>\n",
       "      <td>1000</td>\n",
       "      <td>2018-12-31</td>\n",
       "      <td>12</td>\n",
       "    </tr>\n",
       "    <tr>\n",
       "      <th>2</th>\n",
       "      <td>1000_223</td>\n",
       "      <td>1000</td>\n",
       "      <td>2018-12-31</td>\n",
       "      <td>12</td>\n",
       "    </tr>\n",
       "    <tr>\n",
       "      <th>3</th>\n",
       "      <td>1000_251</td>\n",
       "      <td>1000</td>\n",
       "      <td>2018-12-27</td>\n",
       "      <td>12</td>\n",
       "    </tr>\n",
       "    <tr>\n",
       "      <th>4</th>\n",
       "      <td>1000_255</td>\n",
       "      <td>1000</td>\n",
       "      <td>2018-12-26</td>\n",
       "      <td>12</td>\n",
       "    </tr>\n",
       "  </tbody>\n",
       "</table>\n",
       "</div>"
      ],
      "text/plain": [
       "         id  user_id message_date  month\n",
       "0  1000_125     1000   2018-12-27     12\n",
       "1  1000_160     1000   2018-12-31     12\n",
       "2  1000_223     1000   2018-12-31     12\n",
       "3  1000_251     1000   2018-12-27     12\n",
       "4  1000_255     1000   2018-12-26     12"
      ]
     },
     "metadata": {},
     "output_type": "display_data"
    }
   ],
   "source": [
    "# we need to grouped data on user and months so first we will convert our data into pd.datetime\n",
    "data_calls[\"call_date\"] = pd.to_datetime(data_calls[\"call_date\"], format='%Y-%m-%d')\n",
    "data_internet[\"session_date\"] = pd.to_datetime(data_internet[\"session_date\"], format='%Y-%m-%d')\n",
    "data_message[\"message_date\"] = pd.to_datetime(data_message[\"message_date\"], format='%Y-%m-%d')\n",
    " \n",
    "data_calls[\"month\"] = pd.DatetimeIndex(data_calls[\"call_date\"]).month\n",
    "data_internet[\"month\"] = pd.DatetimeIndex(data_internet[\"session_date\"]).month\n",
    "data_message[\"month\"] = pd.DatetimeIndex(data_message[\"message_date\"]).month\n",
    "display(data_calls.head(), data_internet.head(), data_message.head())"
   ]
  },
  {
   "cell_type": "markdown",
   "metadata": {},
   "source": [
    "#### Section 2.2: Find and eliminate errors in the data<a class=\"anchor\" id=\"section_2_2\"></a>\n",
    "\n",
    "\n",
    "We have already remove the errors in chapter 1, as the missed calls and the sec-to-min conversions. The conversion of mbs-to-gbs has also applied in section 2.4"
   ]
  },
  {
   "cell_type": "markdown",
   "metadata": {},
   "source": [
    "#### Section 2.3: The number of calls made and minutes used per month<a class=\"anchor\" id=\"section_2_3\"></a>\n",
    "\n",
    "#### Section 2.4: The number of text messages sent per month.<a class=\"anchor\" id=\"section_2_4\"></a>\n",
    "\n",
    "#### Section 2.5: The volume of data per month.<a class=\"anchor\" id=\"section_2_5\"></a>"
   ]
  },
  {
   "cell_type": "markdown",
   "metadata": {},
   "source": [
    "After adding the month column in each dataset, it would be easy for us to calculate no. of calls, messages and mbs for each customers in a month. We will grouped all three datasets."
   ]
  },
  {
   "cell_type": "code",
   "execution_count": 22,
   "metadata": {},
   "outputs": [],
   "source": [
    "grouped_calls = data_calls.groupby([\"user_id\", 'month']).agg({'duration': ['sum'], 'call_date': ['count']})\n",
    "grouped_internet = data_internet.groupby([\"user_id\", \"month\"]).agg({'mb_used': ['sum']})\n",
    "grouped_messages = data_message.groupby([\"user_id\", \"month\"]).agg({'message_date': ['count']})"
   ]
  },
  {
   "cell_type": "markdown",
   "metadata": {},
   "source": [
    "We havee grouped the calls, internet and messages data by user_id which will provide combines list of all months for each user_id. In the durationand mbs we applied aggfunc=sum, and for texts the count was applied.   After grouping the data now three datasets will be merged togather."
   ]
  },
  {
   "cell_type": "code",
   "execution_count": 23,
   "metadata": {},
   "outputs": [
    {
     "data": {
      "text/html": [
       "<div>\n",
       "<style scoped>\n",
       "    .dataframe tbody tr th:only-of-type {\n",
       "        vertical-align: middle;\n",
       "    }\n",
       "\n",
       "    .dataframe tbody tr th {\n",
       "        vertical-align: top;\n",
       "    }\n",
       "\n",
       "    .dataframe thead tr th {\n",
       "        text-align: left;\n",
       "    }\n",
       "</style>\n",
       "<table border=\"1\" class=\"dataframe\">\n",
       "  <thead>\n",
       "    <tr>\n",
       "      <th></th>\n",
       "      <th>user_id</th>\n",
       "      <th>month</th>\n",
       "      <th>duration</th>\n",
       "      <th>call_date</th>\n",
       "      <th>mb_used</th>\n",
       "      <th>message_date</th>\n",
       "    </tr>\n",
       "    <tr>\n",
       "      <th></th>\n",
       "      <th></th>\n",
       "      <th></th>\n",
       "      <th>sum</th>\n",
       "      <th>count</th>\n",
       "      <th>sum</th>\n",
       "      <th>count</th>\n",
       "    </tr>\n",
       "  </thead>\n",
       "  <tbody>\n",
       "    <tr>\n",
       "      <th>0</th>\n",
       "      <td>1000</td>\n",
       "      <td>12</td>\n",
       "      <td>124.0</td>\n",
       "      <td>16.0</td>\n",
       "      <td>1901.47</td>\n",
       "      <td>11.0</td>\n",
       "    </tr>\n",
       "    <tr>\n",
       "      <th>1</th>\n",
       "      <td>1001</td>\n",
       "      <td>8</td>\n",
       "      <td>182.0</td>\n",
       "      <td>22.0</td>\n",
       "      <td>6919.15</td>\n",
       "      <td>30.0</td>\n",
       "    </tr>\n",
       "    <tr>\n",
       "      <th>2</th>\n",
       "      <td>1001</td>\n",
       "      <td>9</td>\n",
       "      <td>315.0</td>\n",
       "      <td>38.0</td>\n",
       "      <td>13314.82</td>\n",
       "      <td>44.0</td>\n",
       "    </tr>\n",
       "    <tr>\n",
       "      <th>3</th>\n",
       "      <td>1001</td>\n",
       "      <td>10</td>\n",
       "      <td>393.0</td>\n",
       "      <td>47.0</td>\n",
       "      <td>22330.49</td>\n",
       "      <td>53.0</td>\n",
       "    </tr>\n",
       "    <tr>\n",
       "      <th>4</th>\n",
       "      <td>1001</td>\n",
       "      <td>11</td>\n",
       "      <td>426.0</td>\n",
       "      <td>49.0</td>\n",
       "      <td>18504.30</td>\n",
       "      <td>36.0</td>\n",
       "    </tr>\n",
       "  </tbody>\n",
       "</table>\n",
       "</div>"
      ],
      "text/plain": [
       "  user_id month duration call_date   mb_used message_date\n",
       "                     sum     count       sum        count\n",
       "0    1000    12    124.0      16.0   1901.47         11.0\n",
       "1    1001     8    182.0      22.0   6919.15         30.0\n",
       "2    1001     9    315.0      38.0  13314.82         44.0\n",
       "3    1001    10    393.0      47.0  22330.49         53.0\n",
       "4    1001    11    426.0      49.0  18504.30         36.0"
      ]
     },
     "execution_count": 23,
     "metadata": {},
     "output_type": "execute_result"
    }
   ],
   "source": [
    "data_frames = [grouped_calls, grouped_internet, grouped_messages]\n",
    "data_merged = reduce(lambda  left,right: pd.merge(left,right,on=['user_id', 'month'],how='outer'), data_frames).fillna(0).reset_index()\n",
    "data_merged.head()"
   ]
  },
  {
   "cell_type": "code",
   "execution_count": 24,
   "metadata": {},
   "outputs": [
    {
     "data": {
      "text/html": [
       "<div>\n",
       "<style scoped>\n",
       "    .dataframe tbody tr th:only-of-type {\n",
       "        vertical-align: middle;\n",
       "    }\n",
       "\n",
       "    .dataframe tbody tr th {\n",
       "        vertical-align: top;\n",
       "    }\n",
       "\n",
       "    .dataframe thead th {\n",
       "        text-align: right;\n",
       "    }\n",
       "</style>\n",
       "<table border=\"1\" class=\"dataframe\">\n",
       "  <thead>\n",
       "    <tr style=\"text-align: right;\">\n",
       "      <th></th>\n",
       "      <th>user_id</th>\n",
       "      <th>month</th>\n",
       "      <th>duration</th>\n",
       "      <th>call_date</th>\n",
       "      <th>mb_used</th>\n",
       "      <th>message_date</th>\n",
       "    </tr>\n",
       "  </thead>\n",
       "  <tbody>\n",
       "    <tr>\n",
       "      <th>0</th>\n",
       "      <td>1000</td>\n",
       "      <td>12</td>\n",
       "      <td>124.0</td>\n",
       "      <td>16.0</td>\n",
       "      <td>1901.47</td>\n",
       "      <td>11.0</td>\n",
       "    </tr>\n",
       "    <tr>\n",
       "      <th>1</th>\n",
       "      <td>1001</td>\n",
       "      <td>8</td>\n",
       "      <td>182.0</td>\n",
       "      <td>22.0</td>\n",
       "      <td>6919.15</td>\n",
       "      <td>30.0</td>\n",
       "    </tr>\n",
       "    <tr>\n",
       "      <th>2</th>\n",
       "      <td>1001</td>\n",
       "      <td>9</td>\n",
       "      <td>315.0</td>\n",
       "      <td>38.0</td>\n",
       "      <td>13314.82</td>\n",
       "      <td>44.0</td>\n",
       "    </tr>\n",
       "    <tr>\n",
       "      <th>3</th>\n",
       "      <td>1001</td>\n",
       "      <td>10</td>\n",
       "      <td>393.0</td>\n",
       "      <td>47.0</td>\n",
       "      <td>22330.49</td>\n",
       "      <td>53.0</td>\n",
       "    </tr>\n",
       "    <tr>\n",
       "      <th>4</th>\n",
       "      <td>1001</td>\n",
       "      <td>11</td>\n",
       "      <td>426.0</td>\n",
       "      <td>49.0</td>\n",
       "      <td>18504.30</td>\n",
       "      <td>36.0</td>\n",
       "    </tr>\n",
       "  </tbody>\n",
       "</table>\n",
       "</div>"
      ],
      "text/plain": [
       "   user_id  month  duration  call_date   mb_used  message_date\n",
       "0     1000     12     124.0       16.0   1901.47          11.0\n",
       "1     1001      8     182.0       22.0   6919.15          30.0\n",
       "2     1001      9     315.0       38.0  13314.82          44.0\n",
       "3     1001     10     393.0       47.0  22330.49          53.0\n",
       "4     1001     11     426.0       49.0  18504.30          36.0"
      ]
     },
     "execution_count": 24,
     "metadata": {},
     "output_type": "execute_result"
    }
   ],
   "source": [
    "data_merged.columns = data_merged.columns.droplevel(-1)\n",
    "data_merged.head()"
   ]
  },
  {
   "cell_type": "code",
   "execution_count": 25,
   "metadata": {},
   "outputs": [
    {
     "data": {
      "text/html": [
       "<div>\n",
       "<style scoped>\n",
       "    .dataframe tbody tr th:only-of-type {\n",
       "        vertical-align: middle;\n",
       "    }\n",
       "\n",
       "    .dataframe tbody tr th {\n",
       "        vertical-align: top;\n",
       "    }\n",
       "\n",
       "    .dataframe thead th {\n",
       "        text-align: right;\n",
       "    }\n",
       "</style>\n",
       "<table border=\"1\" class=\"dataframe\">\n",
       "  <thead>\n",
       "    <tr style=\"text-align: right;\">\n",
       "      <th></th>\n",
       "      <th>user_id</th>\n",
       "      <th>month</th>\n",
       "      <th>duration</th>\n",
       "      <th>call_date</th>\n",
       "      <th>mb_used</th>\n",
       "      <th>message_date</th>\n",
       "      <th>first_name</th>\n",
       "      <th>last_name</th>\n",
       "      <th>age</th>\n",
       "      <th>city</th>\n",
       "      <th>reg_date</th>\n",
       "      <th>plan</th>\n",
       "      <th>churn_date</th>\n",
       "      <th>gb_used</th>\n",
       "    </tr>\n",
       "  </thead>\n",
       "  <tbody>\n",
       "    <tr>\n",
       "      <th>0</th>\n",
       "      <td>1000</td>\n",
       "      <td>12.0</td>\n",
       "      <td>124.0</td>\n",
       "      <td>16.0</td>\n",
       "      <td>1901.47</td>\n",
       "      <td>11.0</td>\n",
       "      <td>Anamaria</td>\n",
       "      <td>Bauer</td>\n",
       "      <td>45</td>\n",
       "      <td>Atlanta-Sandy Springs-Roswell, GA MSA</td>\n",
       "      <td>2018-12-24</td>\n",
       "      <td>ultimate</td>\n",
       "      <td>0</td>\n",
       "      <td>2</td>\n",
       "    </tr>\n",
       "    <tr>\n",
       "      <th>1</th>\n",
       "      <td>1001</td>\n",
       "      <td>8.0</td>\n",
       "      <td>182.0</td>\n",
       "      <td>22.0</td>\n",
       "      <td>6919.15</td>\n",
       "      <td>30.0</td>\n",
       "      <td>Mickey</td>\n",
       "      <td>Wilkerson</td>\n",
       "      <td>28</td>\n",
       "      <td>Seattle-Tacoma-Bellevue, WA MSA</td>\n",
       "      <td>2018-08-13</td>\n",
       "      <td>surf</td>\n",
       "      <td>0</td>\n",
       "      <td>7</td>\n",
       "    </tr>\n",
       "    <tr>\n",
       "      <th>2</th>\n",
       "      <td>1001</td>\n",
       "      <td>9.0</td>\n",
       "      <td>315.0</td>\n",
       "      <td>38.0</td>\n",
       "      <td>13314.82</td>\n",
       "      <td>44.0</td>\n",
       "      <td>Mickey</td>\n",
       "      <td>Wilkerson</td>\n",
       "      <td>28</td>\n",
       "      <td>Seattle-Tacoma-Bellevue, WA MSA</td>\n",
       "      <td>2018-08-13</td>\n",
       "      <td>surf</td>\n",
       "      <td>0</td>\n",
       "      <td>14</td>\n",
       "    </tr>\n",
       "    <tr>\n",
       "      <th>3</th>\n",
       "      <td>1001</td>\n",
       "      <td>10.0</td>\n",
       "      <td>393.0</td>\n",
       "      <td>47.0</td>\n",
       "      <td>22330.49</td>\n",
       "      <td>53.0</td>\n",
       "      <td>Mickey</td>\n",
       "      <td>Wilkerson</td>\n",
       "      <td>28</td>\n",
       "      <td>Seattle-Tacoma-Bellevue, WA MSA</td>\n",
       "      <td>2018-08-13</td>\n",
       "      <td>surf</td>\n",
       "      <td>0</td>\n",
       "      <td>22</td>\n",
       "    </tr>\n",
       "    <tr>\n",
       "      <th>4</th>\n",
       "      <td>1001</td>\n",
       "      <td>11.0</td>\n",
       "      <td>426.0</td>\n",
       "      <td>49.0</td>\n",
       "      <td>18504.30</td>\n",
       "      <td>36.0</td>\n",
       "      <td>Mickey</td>\n",
       "      <td>Wilkerson</td>\n",
       "      <td>28</td>\n",
       "      <td>Seattle-Tacoma-Bellevue, WA MSA</td>\n",
       "      <td>2018-08-13</td>\n",
       "      <td>surf</td>\n",
       "      <td>0</td>\n",
       "      <td>19</td>\n",
       "    </tr>\n",
       "  </tbody>\n",
       "</table>\n",
       "</div>"
      ],
      "text/plain": [
       "   user_id  month  duration  call_date   mb_used  message_date first_name  \\\n",
       "0     1000   12.0     124.0       16.0   1901.47          11.0   Anamaria   \n",
       "1     1001    8.0     182.0       22.0   6919.15          30.0     Mickey   \n",
       "2     1001    9.0     315.0       38.0  13314.82          44.0     Mickey   \n",
       "3     1001   10.0     393.0       47.0  22330.49          53.0     Mickey   \n",
       "4     1001   11.0     426.0       49.0  18504.30          36.0     Mickey   \n",
       "\n",
       "   last_name  age                                   city    reg_date  \\\n",
       "0      Bauer   45  Atlanta-Sandy Springs-Roswell, GA MSA  2018-12-24   \n",
       "1  Wilkerson   28        Seattle-Tacoma-Bellevue, WA MSA  2018-08-13   \n",
       "2  Wilkerson   28        Seattle-Tacoma-Bellevue, WA MSA  2018-08-13   \n",
       "3  Wilkerson   28        Seattle-Tacoma-Bellevue, WA MSA  2018-08-13   \n",
       "4  Wilkerson   28        Seattle-Tacoma-Bellevue, WA MSA  2018-08-13   \n",
       "\n",
       "       plan churn_date  gb_used  \n",
       "0  ultimate          0        2  \n",
       "1      surf          0        7  \n",
       "2      surf          0       14  \n",
       "3      surf          0       22  \n",
       "4      surf          0       19  "
      ]
     },
     "execution_count": 25,
     "metadata": {},
     "output_type": "execute_result"
    }
   ],
   "source": [
    "data_column=[data_merged,data_users]\n",
    "data_combine=reduce(lambda  left,right: pd.merge(left,right,on=['user_id'],how='outer'), data_column).fillna(0)\n",
    "df=data_combine\n",
    "#df = data_combine.drop('user_id', 1)\n",
    "\n",
    "df['gb_used']=df['mb_used']/1024\n",
    "df['gb_used']=df['gb_used'].apply(lambda x: math.ceil(float(x)))\n",
    "#data_internet[data_internet['gb_used']>2]\n",
    "df.head()"
   ]
  },
  {
   "cell_type": "markdown",
   "metadata": {},
   "source": [
    "The above merged dataset is now has arange the user_ids and providing sum of duration of calls , total call made in on month, total mb_used in specific month and messages sent in that month. \n",
    "\n",
    "__For Example__\n",
    "\n",
    "For the 12 month the user_id 1000 has made 16 calls of 116.83 minutes, 1901.47 mbs and sent 11 messages. \n",
    "\n",
    "It also describe the customer plan. We will find the answer pf below question.\n",
    "\n"
   ]
  },
  {
   "cell_type": "markdown",
   "metadata": {},
   "source": [
    "#### Section 2.6: The monthly revenue from each user<a class=\"anchor\" id=\"section_2_6\"></a>"
   ]
  },
  {
   "cell_type": "markdown",
   "metadata": {},
   "source": [
    "__The monthly revenue from each user (subtract the free package limit from the total number of calls, text messages, and data; multiply the result by the calling plan value; add the monthly charge depending on the calling plan)__"
   ]
  },
  {
   "cell_type": "markdown",
   "metadata": {},
   "source": [
    "To calculate the monthly revenue from each user, the dataset will in divided into two parts as for each plan (surf, ultimate). First a fucntion was developed and applied to the overvall dataset which has provided the revenue from each users, depending upon the plan and if the user exceeded the limit it was also added into revenue."
   ]
  },
  {
   "cell_type": "code",
   "execution_count": 26,
   "metadata": {},
   "outputs": [
    {
     "data": {
      "text/html": [
       "<div>\n",
       "<style scoped>\n",
       "    .dataframe tbody tr th:only-of-type {\n",
       "        vertical-align: middle;\n",
       "    }\n",
       "\n",
       "    .dataframe tbody tr th {\n",
       "        vertical-align: top;\n",
       "    }\n",
       "\n",
       "    .dataframe thead th {\n",
       "        text-align: right;\n",
       "    }\n",
       "</style>\n",
       "<table border=\"1\" class=\"dataframe\">\n",
       "  <thead>\n",
       "    <tr style=\"text-align: right;\">\n",
       "      <th></th>\n",
       "      <th>user_id</th>\n",
       "      <th>month</th>\n",
       "      <th>duration</th>\n",
       "      <th>call_date</th>\n",
       "      <th>mb_used</th>\n",
       "      <th>message_date</th>\n",
       "      <th>first_name</th>\n",
       "      <th>last_name</th>\n",
       "      <th>age</th>\n",
       "      <th>city</th>\n",
       "      <th>reg_date</th>\n",
       "      <th>plan</th>\n",
       "      <th>churn_date</th>\n",
       "      <th>gb_used</th>\n",
       "    </tr>\n",
       "  </thead>\n",
       "  <tbody>\n",
       "    <tr>\n",
       "      <th>0</th>\n",
       "      <td>1000</td>\n",
       "      <td>12.0</td>\n",
       "      <td>124.0</td>\n",
       "      <td>16.0</td>\n",
       "      <td>1901.47</td>\n",
       "      <td>11.0</td>\n",
       "      <td>Anamaria</td>\n",
       "      <td>Bauer</td>\n",
       "      <td>45</td>\n",
       "      <td>Atlanta-Sandy Springs-Roswell, GA MSA</td>\n",
       "      <td>2018-12-24</td>\n",
       "      <td>ultimate</td>\n",
       "      <td>0</td>\n",
       "      <td>2</td>\n",
       "    </tr>\n",
       "    <tr>\n",
       "      <th>1</th>\n",
       "      <td>1001</td>\n",
       "      <td>8.0</td>\n",
       "      <td>182.0</td>\n",
       "      <td>22.0</td>\n",
       "      <td>6919.15</td>\n",
       "      <td>30.0</td>\n",
       "      <td>Mickey</td>\n",
       "      <td>Wilkerson</td>\n",
       "      <td>28</td>\n",
       "      <td>Seattle-Tacoma-Bellevue, WA MSA</td>\n",
       "      <td>2018-08-13</td>\n",
       "      <td>surf</td>\n",
       "      <td>0</td>\n",
       "      <td>7</td>\n",
       "    </tr>\n",
       "  </tbody>\n",
       "</table>\n",
       "</div>"
      ],
      "text/plain": [
       "   user_id  month  duration  call_date  mb_used  message_date first_name  \\\n",
       "0     1000   12.0     124.0       16.0  1901.47          11.0   Anamaria   \n",
       "1     1001    8.0     182.0       22.0  6919.15          30.0     Mickey   \n",
       "\n",
       "   last_name  age                                   city    reg_date  \\\n",
       "0      Bauer   45  Atlanta-Sandy Springs-Roswell, GA MSA  2018-12-24   \n",
       "1  Wilkerson   28        Seattle-Tacoma-Bellevue, WA MSA  2018-08-13   \n",
       "\n",
       "       plan churn_date  gb_used  \n",
       "0  ultimate          0        2  \n",
       "1      surf          0        7  "
      ]
     },
     "execution_count": 26,
     "metadata": {},
     "output_type": "execute_result"
    }
   ],
   "source": [
    "df.head(2)"
   ]
  },
  {
   "cell_type": "code",
   "execution_count": 27,
   "metadata": {},
   "outputs": [
    {
     "data": {
      "text/plain": [
       "'ultimate'"
      ]
     },
     "execution_count": 27,
     "metadata": {},
     "output_type": "execute_result"
    }
   ],
   "source": [
    "plan=df['plan'].values[0]\n",
    "plan"
   ]
  },
  {
   "cell_type": "code",
   "execution_count": 28,
   "metadata": {},
   "outputs": [
    {
     "data": {
      "text/html": [
       "<div>\n",
       "<style scoped>\n",
       "    .dataframe tbody tr th:only-of-type {\n",
       "        vertical-align: middle;\n",
       "    }\n",
       "\n",
       "    .dataframe tbody tr th {\n",
       "        vertical-align: top;\n",
       "    }\n",
       "\n",
       "    .dataframe thead th {\n",
       "        text-align: right;\n",
       "    }\n",
       "</style>\n",
       "<table border=\"1\" class=\"dataframe\">\n",
       "  <thead>\n",
       "    <tr style=\"text-align: right;\">\n",
       "      <th></th>\n",
       "      <th>user_id</th>\n",
       "      <th>month</th>\n",
       "      <th>duration</th>\n",
       "      <th>call_date</th>\n",
       "      <th>mb_used</th>\n",
       "      <th>message_date</th>\n",
       "      <th>first_name</th>\n",
       "      <th>last_name</th>\n",
       "      <th>age</th>\n",
       "      <th>city</th>\n",
       "      <th>reg_date</th>\n",
       "      <th>plan</th>\n",
       "      <th>churn_date</th>\n",
       "      <th>gb_used</th>\n",
       "    </tr>\n",
       "  </thead>\n",
       "  <tbody>\n",
       "    <tr>\n",
       "      <th>0</th>\n",
       "      <td>1000</td>\n",
       "      <td>12.0</td>\n",
       "      <td>124.0</td>\n",
       "      <td>16.0</td>\n",
       "      <td>1901.47</td>\n",
       "      <td>11.0</td>\n",
       "      <td>Anamaria</td>\n",
       "      <td>Bauer</td>\n",
       "      <td>45</td>\n",
       "      <td>Atlanta-Sandy Springs-Roswell, GA MSA</td>\n",
       "      <td>2018-12-24</td>\n",
       "      <td>ultimate</td>\n",
       "      <td>0</td>\n",
       "      <td>2</td>\n",
       "    </tr>\n",
       "    <tr>\n",
       "      <th>1</th>\n",
       "      <td>1001</td>\n",
       "      <td>8.0</td>\n",
       "      <td>182.0</td>\n",
       "      <td>22.0</td>\n",
       "      <td>6919.15</td>\n",
       "      <td>30.0</td>\n",
       "      <td>Mickey</td>\n",
       "      <td>Wilkerson</td>\n",
       "      <td>28</td>\n",
       "      <td>Seattle-Tacoma-Bellevue, WA MSA</td>\n",
       "      <td>2018-08-13</td>\n",
       "      <td>surf</td>\n",
       "      <td>0</td>\n",
       "      <td>7</td>\n",
       "    </tr>\n",
       "  </tbody>\n",
       "</table>\n",
       "</div>"
      ],
      "text/plain": [
       "   user_id  month  duration  call_date  mb_used  message_date first_name  \\\n",
       "0     1000   12.0     124.0       16.0  1901.47          11.0   Anamaria   \n",
       "1     1001    8.0     182.0       22.0  6919.15          30.0     Mickey   \n",
       "\n",
       "   last_name  age                                   city    reg_date  \\\n",
       "0      Bauer   45  Atlanta-Sandy Springs-Roswell, GA MSA  2018-12-24   \n",
       "1  Wilkerson   28        Seattle-Tacoma-Bellevue, WA MSA  2018-08-13   \n",
       "\n",
       "       plan churn_date  gb_used  \n",
       "0  ultimate          0        2  \n",
       "1      surf          0        7  "
      ]
     },
     "execution_count": 28,
     "metadata": {},
     "output_type": "execute_result"
    }
   ],
   "source": [
    "df.head(2)"
   ]
  },
  {
   "cell_type": "code",
   "execution_count": 29,
   "metadata": {
    "scrolled": false
   },
   "outputs": [
    {
     "data": {
      "text/html": [
       "<div>\n",
       "<style scoped>\n",
       "    .dataframe tbody tr th:only-of-type {\n",
       "        vertical-align: middle;\n",
       "    }\n",
       "\n",
       "    .dataframe tbody tr th {\n",
       "        vertical-align: top;\n",
       "    }\n",
       "\n",
       "    .dataframe thead th {\n",
       "        text-align: right;\n",
       "    }\n",
       "</style>\n",
       "<table border=\"1\" class=\"dataframe\">\n",
       "  <thead>\n",
       "    <tr style=\"text-align: right;\">\n",
       "      <th></th>\n",
       "      <th>user_id</th>\n",
       "      <th>month</th>\n",
       "      <th>duration</th>\n",
       "      <th>call_date</th>\n",
       "      <th>mb_used</th>\n",
       "      <th>message_date</th>\n",
       "      <th>first_name</th>\n",
       "      <th>last_name</th>\n",
       "      <th>age</th>\n",
       "      <th>city</th>\n",
       "      <th>reg_date</th>\n",
       "      <th>plan</th>\n",
       "      <th>churn_date</th>\n",
       "      <th>gb_used</th>\n",
       "      <th>total_cost</th>\n",
       "    </tr>\n",
       "  </thead>\n",
       "  <tbody>\n",
       "    <tr>\n",
       "      <th>0</th>\n",
       "      <td>1000</td>\n",
       "      <td>12.0</td>\n",
       "      <td>124.0</td>\n",
       "      <td>16.0</td>\n",
       "      <td>1901.47</td>\n",
       "      <td>11.0</td>\n",
       "      <td>Anamaria</td>\n",
       "      <td>Bauer</td>\n",
       "      <td>45</td>\n",
       "      <td>Atlanta-Sandy Springs-Roswell, GA MSA</td>\n",
       "      <td>2018-12-24</td>\n",
       "      <td>ultimate</td>\n",
       "      <td>0</td>\n",
       "      <td>2</td>\n",
       "      <td>70.00</td>\n",
       "    </tr>\n",
       "    <tr>\n",
       "      <th>1</th>\n",
       "      <td>1001</td>\n",
       "      <td>8.0</td>\n",
       "      <td>182.0</td>\n",
       "      <td>22.0</td>\n",
       "      <td>6919.15</td>\n",
       "      <td>30.0</td>\n",
       "      <td>Mickey</td>\n",
       "      <td>Wilkerson</td>\n",
       "      <td>28</td>\n",
       "      <td>Seattle-Tacoma-Bellevue, WA MSA</td>\n",
       "      <td>2018-08-13</td>\n",
       "      <td>surf</td>\n",
       "      <td>0</td>\n",
       "      <td>7</td>\n",
       "      <td>20.00</td>\n",
       "    </tr>\n",
       "    <tr>\n",
       "      <th>2</th>\n",
       "      <td>1001</td>\n",
       "      <td>9.0</td>\n",
       "      <td>315.0</td>\n",
       "      <td>38.0</td>\n",
       "      <td>13314.82</td>\n",
       "      <td>44.0</td>\n",
       "      <td>Mickey</td>\n",
       "      <td>Wilkerson</td>\n",
       "      <td>28</td>\n",
       "      <td>Seattle-Tacoma-Bellevue, WA MSA</td>\n",
       "      <td>2018-08-13</td>\n",
       "      <td>surf</td>\n",
       "      <td>0</td>\n",
       "      <td>14</td>\n",
       "      <td>20.00</td>\n",
       "    </tr>\n",
       "    <tr>\n",
       "      <th>3</th>\n",
       "      <td>1001</td>\n",
       "      <td>10.0</td>\n",
       "      <td>393.0</td>\n",
       "      <td>47.0</td>\n",
       "      <td>22330.49</td>\n",
       "      <td>53.0</td>\n",
       "      <td>Mickey</td>\n",
       "      <td>Wilkerson</td>\n",
       "      <td>28</td>\n",
       "      <td>Seattle-Tacoma-Bellevue, WA MSA</td>\n",
       "      <td>2018-08-13</td>\n",
       "      <td>surf</td>\n",
       "      <td>0</td>\n",
       "      <td>22</td>\n",
       "      <td>90.09</td>\n",
       "    </tr>\n",
       "    <tr>\n",
       "      <th>4</th>\n",
       "      <td>1001</td>\n",
       "      <td>11.0</td>\n",
       "      <td>426.0</td>\n",
       "      <td>49.0</td>\n",
       "      <td>18504.30</td>\n",
       "      <td>36.0</td>\n",
       "      <td>Mickey</td>\n",
       "      <td>Wilkerson</td>\n",
       "      <td>28</td>\n",
       "      <td>Seattle-Tacoma-Bellevue, WA MSA</td>\n",
       "      <td>2018-08-13</td>\n",
       "      <td>surf</td>\n",
       "      <td>0</td>\n",
       "      <td>19</td>\n",
       "      <td>60.00</td>\n",
       "    </tr>\n",
       "  </tbody>\n",
       "</table>\n",
       "</div>"
      ],
      "text/plain": [
       "   user_id  month  duration  call_date   mb_used  message_date first_name  \\\n",
       "0     1000   12.0     124.0       16.0   1901.47          11.0   Anamaria   \n",
       "1     1001    8.0     182.0       22.0   6919.15          30.0     Mickey   \n",
       "2     1001    9.0     315.0       38.0  13314.82          44.0     Mickey   \n",
       "3     1001   10.0     393.0       47.0  22330.49          53.0     Mickey   \n",
       "4     1001   11.0     426.0       49.0  18504.30          36.0     Mickey   \n",
       "\n",
       "   last_name  age                                   city    reg_date  \\\n",
       "0      Bauer   45  Atlanta-Sandy Springs-Roswell, GA MSA  2018-12-24   \n",
       "1  Wilkerson   28        Seattle-Tacoma-Bellevue, WA MSA  2018-08-13   \n",
       "2  Wilkerson   28        Seattle-Tacoma-Bellevue, WA MSA  2018-08-13   \n",
       "3  Wilkerson   28        Seattle-Tacoma-Bellevue, WA MSA  2018-08-13   \n",
       "4  Wilkerson   28        Seattle-Tacoma-Bellevue, WA MSA  2018-08-13   \n",
       "\n",
       "       plan churn_date  gb_used  total_cost  \n",
       "0  ultimate          0        2       70.00  \n",
       "1      surf          0        7       20.00  \n",
       "2      surf          0       14       20.00  \n",
       "3      surf          0       22       90.09  \n",
       "4      surf          0       19       60.00  "
      ]
     },
     "execution_count": 29,
     "metadata": {},
     "output_type": "execute_result"
    }
   ],
   "source": [
    "def total_revenue(df):\n",
    "    plan = df['plan']   \n",
    "    internet_usage = df['gb_used']\n",
    "    monthly_minutes  = df['duration']\n",
    "    messages = df['message_date']\n",
    " \n",
    "    if plan == 'surf':\n",
    "        \n",
    "        if monthly_minutes >= 500:\n",
    "            revenue_calls = (0.03)*(monthly_minutes - 500) \n",
    "        else:\n",
    "             revenue_calls = 0\n",
    "        if messages >= 50:\n",
    "            revenue_messages = 0.03*(messages - 50)\n",
    "        else :\n",
    "            revenue_messages = 0\n",
    "        if internet_usage >= 15:\n",
    "            revenue_internet_usage = 10*(internet_usage - 15)\n",
    "        else :\n",
    "            revenue_internet_usage = 0\n",
    " \n",
    "        cost = 20 + revenue_messages + revenue_internet_usage + revenue_calls\n",
    " \n",
    " \n",
    " \n",
    "    elif plan == 'ultimate':\n",
    " \n",
    "        if monthly_minutes >= 3000:\n",
    "            revenue_calls = (0.01)*(monthly_minutes - 3000) \n",
    "        else:\n",
    "            revenue_calls = 0\n",
    "        if messages >= 50:\n",
    "            revenue_messages = 0.01*(messages - 1000)\n",
    "        else :\n",
    "            revenue_messages = 0\n",
    "        if internet_usage >= 15:\n",
    "            revenue_internet_usage = 7*(internet_usage - 30)\n",
    "        else :\n",
    "            revenue_internet_usage = 0\n",
    " \n",
    "        cost = 70 + revenue_messages + revenue_internet_usage + revenue_calls\n",
    " \n",
    "    return cost\n",
    " \n",
    "df['total_cost'] = df.apply(total_revenue , axis = 1)\n",
    "df.head()"
   ]
  },
  {
   "cell_type": "markdown",
   "metadata": {},
   "source": [
    "The total cost has added and to the dataset. "
   ]
  },
  {
   "cell_type": "code",
   "execution_count": 30,
   "metadata": {},
   "outputs": [
    {
     "name": "stdout",
     "output_type": "stream",
     "text": [
      "<class 'pandas.core.frame.DataFrame'>\n",
      "Int64Index: 2303 entries, 0 to 2302\n",
      "Data columns (total 15 columns):\n",
      " #   Column        Non-Null Count  Dtype  \n",
      "---  ------        --------------  -----  \n",
      " 0   user_id       2303 non-null   int64  \n",
      " 1   month         2303 non-null   float64\n",
      " 2   duration      2303 non-null   float64\n",
      " 3   call_date     2303 non-null   float64\n",
      " 4   mb_used       2303 non-null   float64\n",
      " 5   message_date  2303 non-null   float64\n",
      " 6   first_name    2303 non-null   object \n",
      " 7   last_name     2303 non-null   object \n",
      " 8   age           2303 non-null   int64  \n",
      " 9   city          2303 non-null   object \n",
      " 10  reg_date      2303 non-null   object \n",
      " 11  plan          2303 non-null   object \n",
      " 12  churn_date    2303 non-null   object \n",
      " 13  gb_used       2303 non-null   int64  \n",
      " 14  total_cost    2303 non-null   float64\n",
      "dtypes: float64(6), int64(3), object(6)\n",
      "memory usage: 287.9+ KB\n"
     ]
    }
   ],
   "source": [
    "df.info()"
   ]
  },
  {
   "cell_type": "markdown",
   "metadata": {},
   "source": [
    "#### Section 2.7: Conclusion.<a class=\"anchor\" id=\"section_2_7\"></a>"
   ]
  },
  {
   "cell_type": "markdown",
   "metadata": {},
   "source": [
    "In chapter 2, First we converted the datasets columns date to the date_time format and after added the month columns in each df, We already removed the missed calls and rounded up sec to min values in chapter 1. After that mbs were converted to the gbs in gb_used column. To find answer the number of calls, mbs and texts the corresponding dataset was grouped and by application of the aggfunc of sum and count we calculated the values. Then all three datasets were merged which gave us the total calls, mb, and texts values for each customers. To calculate the revenue from each user, we divided the df into two parts basis on plan and write a function which calculate revenue for users depending upon the plan of customers. After applying the function on our dataset we have a total_cost df which provides the revenue from each customers depending upon the plan and overcharging if the customer overused the services. "
   ]
  },
  {
   "cell_type": "markdown",
   "metadata": {},
   "source": [
    "### Chapter 3: Analyze the data <a class=\"anchor\" id=\"chapter3\"></a>"
   ]
  },
  {
   "cell_type": "markdown",
   "metadata": {},
   "source": [
    "#### Section 3.1: Describe the customers' behavior and yisualization by histogram.<a class=\"anchor\" id=\"section_3_1\"></a>\n",
    " \n",
    "\n",
    "__Describe the customers' behavior. Find the minutes, texts, and volume of data the users of each plan require per month. Calculate the mean, dispersion, and standard deviation. Plot histograms. Describe the distributions.__"
   ]
  },
  {
   "cell_type": "markdown",
   "metadata": {},
   "source": [
    "First we will extract the require information regarding call, messages and data usage from our final dataset'df'. We will use describe method to find mean, dispersion, and standard deviation. And plot histogram."
   ]
  },
  {
   "cell_type": "code",
   "execution_count": 31,
   "metadata": {},
   "outputs": [
    {
     "data": {
      "text/html": [
       "<div>\n",
       "<style scoped>\n",
       "    .dataframe tbody tr th:only-of-type {\n",
       "        vertical-align: middle;\n",
       "    }\n",
       "\n",
       "    .dataframe tbody tr th {\n",
       "        vertical-align: top;\n",
       "    }\n",
       "\n",
       "    .dataframe thead th {\n",
       "        text-align: right;\n",
       "    }\n",
       "</style>\n",
       "<table border=\"1\" class=\"dataframe\">\n",
       "  <thead>\n",
       "    <tr style=\"text-align: right;\">\n",
       "      <th></th>\n",
       "      <th>user_id</th>\n",
       "      <th>month</th>\n",
       "      <th>duration</th>\n",
       "      <th>call_date</th>\n",
       "      <th>mb_used</th>\n",
       "      <th>message_date</th>\n",
       "      <th>age</th>\n",
       "      <th>gb_used</th>\n",
       "      <th>total_cost</th>\n",
       "    </tr>\n",
       "  </thead>\n",
       "  <tbody>\n",
       "    <tr>\n",
       "      <th>count</th>\n",
       "      <td>2303.000000</td>\n",
       "      <td>2303.000000</td>\n",
       "      <td>2303.000000</td>\n",
       "      <td>2303.000000</td>\n",
       "      <td>2303.000000</td>\n",
       "      <td>2303.000000</td>\n",
       "      <td>2303.000000</td>\n",
       "      <td>2303.000000</td>\n",
       "      <td>2303.000000</td>\n",
       "    </tr>\n",
       "    <tr>\n",
       "      <th>mean</th>\n",
       "      <td>1246.214937</td>\n",
       "      <td>9.132870</td>\n",
       "      <td>427.419453</td>\n",
       "      <td>48.155015</td>\n",
       "      <td>16691.603869</td>\n",
       "      <td>33.022579</td>\n",
       "      <td>45.420756</td>\n",
       "      <td>16.797221</td>\n",
       "      <td>49.804516</td>\n",
       "    </tr>\n",
       "    <tr>\n",
       "      <th>std</th>\n",
       "      <td>143.044136</td>\n",
       "      <td>2.562964</td>\n",
       "      <td>237.490294</td>\n",
       "      <td>26.338649</td>\n",
       "      <td>8026.001447</td>\n",
       "      <td>34.065907</td>\n",
       "      <td>16.774962</td>\n",
       "      <td>7.857946</td>\n",
       "      <td>54.552534</td>\n",
       "    </tr>\n",
       "    <tr>\n",
       "      <th>min</th>\n",
       "      <td>1000.000000</td>\n",
       "      <td>0.000000</td>\n",
       "      <td>0.000000</td>\n",
       "      <td>0.000000</td>\n",
       "      <td>0.000000</td>\n",
       "      <td>0.000000</td>\n",
       "      <td>18.000000</td>\n",
       "      <td>0.000000</td>\n",
       "      <td>-44.460000</td>\n",
       "    </tr>\n",
       "    <tr>\n",
       "      <th>25%</th>\n",
       "      <td>1122.000000</td>\n",
       "      <td>8.000000</td>\n",
       "      <td>262.500000</td>\n",
       "      <td>30.000000</td>\n",
       "      <td>12185.215000</td>\n",
       "      <td>3.000000</td>\n",
       "      <td>30.000000</td>\n",
       "      <td>12.000000</td>\n",
       "      <td>20.000000</td>\n",
       "    </tr>\n",
       "    <tr>\n",
       "      <th>50%</th>\n",
       "      <td>1245.000000</td>\n",
       "      <td>10.000000</td>\n",
       "      <td>424.000000</td>\n",
       "      <td>48.000000</td>\n",
       "      <td>16803.260000</td>\n",
       "      <td>25.000000</td>\n",
       "      <td>46.000000</td>\n",
       "      <td>17.000000</td>\n",
       "      <td>40.000000</td>\n",
       "    </tr>\n",
       "    <tr>\n",
       "      <th>75%</th>\n",
       "      <td>1368.000000</td>\n",
       "      <td>11.000000</td>\n",
       "      <td>571.500000</td>\n",
       "      <td>64.000000</td>\n",
       "      <td>20993.075000</td>\n",
       "      <td>51.000000</td>\n",
       "      <td>61.000000</td>\n",
       "      <td>21.000000</td>\n",
       "      <td>70.000000</td>\n",
       "    </tr>\n",
       "    <tr>\n",
       "      <th>max</th>\n",
       "      <td>1499.000000</td>\n",
       "      <td>12.000000</td>\n",
       "      <td>1510.000000</td>\n",
       "      <td>167.000000</td>\n",
       "      <td>70931.590000</td>\n",
       "      <td>266.000000</td>\n",
       "      <td>75.000000</td>\n",
       "      <td>70.000000</td>\n",
       "      <td>590.370000</td>\n",
       "    </tr>\n",
       "  </tbody>\n",
       "</table>\n",
       "</div>"
      ],
      "text/plain": [
       "           user_id        month     duration    call_date       mb_used  \\\n",
       "count  2303.000000  2303.000000  2303.000000  2303.000000   2303.000000   \n",
       "mean   1246.214937     9.132870   427.419453    48.155015  16691.603869   \n",
       "std     143.044136     2.562964   237.490294    26.338649   8026.001447   \n",
       "min    1000.000000     0.000000     0.000000     0.000000      0.000000   \n",
       "25%    1122.000000     8.000000   262.500000    30.000000  12185.215000   \n",
       "50%    1245.000000    10.000000   424.000000    48.000000  16803.260000   \n",
       "75%    1368.000000    11.000000   571.500000    64.000000  20993.075000   \n",
       "max    1499.000000    12.000000  1510.000000   167.000000  70931.590000   \n",
       "\n",
       "       message_date          age      gb_used   total_cost  \n",
       "count   2303.000000  2303.000000  2303.000000  2303.000000  \n",
       "mean      33.022579    45.420756    16.797221    49.804516  \n",
       "std       34.065907    16.774962     7.857946    54.552534  \n",
       "min        0.000000    18.000000     0.000000   -44.460000  \n",
       "25%        3.000000    30.000000    12.000000    20.000000  \n",
       "50%       25.000000    46.000000    17.000000    40.000000  \n",
       "75%       51.000000    61.000000    21.000000    70.000000  \n",
       "max      266.000000    75.000000    70.000000   590.370000  "
      ]
     },
     "execution_count": 31,
     "metadata": {},
     "output_type": "execute_result"
    }
   ],
   "source": [
    "df.describe()"
   ]
  },
  {
   "cell_type": "markdown",
   "metadata": {},
   "source": [
    "The describe function has given the mean, dispersion and standrd deviation of data. There are total 2303 rows of data. The mean give us the overall mean of column but we will calculate mean of texts, volume of data and texts for each individual user below. The standard deviation of each column and 25%(Q1), 50%(Q2) 75%(Q3) IQR values describing that data has normal distribution. "
   ]
  },
  {
   "cell_type": "markdown",
   "metadata": {},
   "source": [
    "__Find the minutes, texts, and volume of data the users of each plan require per month.__"
   ]
  },
  {
   "cell_type": "code",
   "execution_count": 32,
   "metadata": {},
   "outputs": [
    {
     "data": {
      "text/html": [
       "<div>\n",
       "<style scoped>\n",
       "    .dataframe tbody tr th:only-of-type {\n",
       "        vertical-align: middle;\n",
       "    }\n",
       "\n",
       "    .dataframe tbody tr th {\n",
       "        vertical-align: top;\n",
       "    }\n",
       "\n",
       "    .dataframe thead th {\n",
       "        text-align: right;\n",
       "    }\n",
       "</style>\n",
       "<table border=\"1\" class=\"dataframe\">\n",
       "  <thead>\n",
       "    <tr style=\"text-align: right;\">\n",
       "      <th></th>\n",
       "      <th>user_id</th>\n",
       "      <th>duration</th>\n",
       "      <th>gb_used</th>\n",
       "      <th>message_date</th>\n",
       "    </tr>\n",
       "  </thead>\n",
       "  <tbody>\n",
       "    <tr>\n",
       "      <th>0</th>\n",
       "      <td>1000</td>\n",
       "      <td>124.00</td>\n",
       "      <td>2.00</td>\n",
       "      <td>11.00</td>\n",
       "    </tr>\n",
       "    <tr>\n",
       "      <th>1</th>\n",
       "      <td>1001</td>\n",
       "      <td>345.60</td>\n",
       "      <td>16.20</td>\n",
       "      <td>41.40</td>\n",
       "    </tr>\n",
       "    <tr>\n",
       "      <th>2</th>\n",
       "      <td>1002</td>\n",
       "      <td>276.33</td>\n",
       "      <td>13.67</td>\n",
       "      <td>29.33</td>\n",
       "    </tr>\n",
       "    <tr>\n",
       "      <th>3</th>\n",
       "      <td>1003</td>\n",
       "      <td>1104.00</td>\n",
       "      <td>27.00</td>\n",
       "      <td>50.00</td>\n",
       "    </tr>\n",
       "    <tr>\n",
       "      <th>4</th>\n",
       "      <td>1004</td>\n",
       "      <td>346.50</td>\n",
       "      <td>19.62</td>\n",
       "      <td>22.12</td>\n",
       "    </tr>\n",
       "  </tbody>\n",
       "</table>\n",
       "</div>"
      ],
      "text/plain": [
       "   user_id  duration  gb_used  message_date\n",
       "0     1000    124.00     2.00         11.00\n",
       "1     1001    345.60    16.20         41.40\n",
       "2     1002    276.33    13.67         29.33\n",
       "3     1003   1104.00    27.00         50.00\n",
       "4     1004    346.50    19.62         22.12"
      ]
     },
     "execution_count": 32,
     "metadata": {},
     "output_type": "execute_result"
    }
   ],
   "source": [
    "df1 = df[['user_id', 'duration', 'gb_used','message_date','plan']].groupby('user_id').mean().round(2).reset_index()\n",
    "df1.head()"
   ]
  },
  {
   "cell_type": "markdown",
   "metadata": {},
   "source": [
    "In the above block of code, we have grouped the data columns duration, gb_used and messages with user_id. After that we find the mean of the data columns. We has given us the average duration( average minutes), average gb_used and average texts messages required for the each customers."
   ]
  },
  {
   "cell_type": "code",
   "execution_count": 33,
   "metadata": {},
   "outputs": [
    {
     "data": {
      "text/html": [
       "<div>\n",
       "<style scoped>\n",
       "    .dataframe tbody tr th:only-of-type {\n",
       "        vertical-align: middle;\n",
       "    }\n",
       "\n",
       "    .dataframe tbody tr th {\n",
       "        vertical-align: top;\n",
       "    }\n",
       "\n",
       "    .dataframe thead th {\n",
       "        text-align: right;\n",
       "    }\n",
       "</style>\n",
       "<table border=\"1\" class=\"dataframe\">\n",
       "  <thead>\n",
       "    <tr style=\"text-align: right;\">\n",
       "      <th></th>\n",
       "      <th>user_id</th>\n",
       "      <th>plan</th>\n",
       "      <th>duration</th>\n",
       "      <th>gb_used</th>\n",
       "      <th>message_date</th>\n",
       "      <th>total_cost</th>\n",
       "    </tr>\n",
       "  </thead>\n",
       "  <tbody>\n",
       "    <tr>\n",
       "      <th>0</th>\n",
       "      <td>1000</td>\n",
       "      <td>ultimate</td>\n",
       "      <td>124.00</td>\n",
       "      <td>2.00</td>\n",
       "      <td>11.00</td>\n",
       "      <td>70.00</td>\n",
       "    </tr>\n",
       "    <tr>\n",
       "      <th>1</th>\n",
       "      <td>1001</td>\n",
       "      <td>surf</td>\n",
       "      <td>345.60</td>\n",
       "      <td>16.20</td>\n",
       "      <td>41.40</td>\n",
       "      <td>50.02</td>\n",
       "    </tr>\n",
       "    <tr>\n",
       "      <th>2</th>\n",
       "      <td>1002</td>\n",
       "      <td>surf</td>\n",
       "      <td>276.33</td>\n",
       "      <td>13.67</td>\n",
       "      <td>29.33</td>\n",
       "      <td>33.33</td>\n",
       "    </tr>\n",
       "    <tr>\n",
       "      <th>3</th>\n",
       "      <td>1003</td>\n",
       "      <td>surf</td>\n",
       "      <td>1104.00</td>\n",
       "      <td>27.00</td>\n",
       "      <td>50.00</td>\n",
       "      <td>158.12</td>\n",
       "    </tr>\n",
       "    <tr>\n",
       "      <th>4</th>\n",
       "      <td>1004</td>\n",
       "      <td>surf</td>\n",
       "      <td>346.50</td>\n",
       "      <td>19.62</td>\n",
       "      <td>22.12</td>\n",
       "      <td>76.25</td>\n",
       "    </tr>\n",
       "  </tbody>\n",
       "</table>\n",
       "</div>"
      ],
      "text/plain": [
       "   user_id      plan  duration  gb_used  message_date  total_cost\n",
       "0     1000  ultimate    124.00     2.00         11.00       70.00\n",
       "1     1001      surf    345.60    16.20         41.40       50.02\n",
       "2     1002      surf    276.33    13.67         29.33       33.33\n",
       "3     1003      surf   1104.00    27.00         50.00      158.12\n",
       "4     1004      surf    346.50    19.62         22.12       76.25"
      ]
     },
     "execution_count": 33,
     "metadata": {},
     "output_type": "execute_result"
    }
   ],
   "source": [
    "table = pd.pivot_table(df, values=['duration','message_date', 'gb_used','total_cost'], index=['user_id', 'plan'],\n",
    "                    aggfunc={'duration': np.mean,\n",
    "                             'message_date': np.mean,\n",
    "                             'total_cost':np.mean,\n",
    "                            'gb_used':np.mean}).reset_index().round(2)\n",
    "table.head()"
   ]
  },
  {
   "cell_type": "markdown",
   "metadata": {},
   "source": [
    "The table describe the average usage of calls, duration, messages, gb and cost for each customers."
   ]
  },
  {
   "cell_type": "code",
   "execution_count": 34,
   "metadata": {},
   "outputs": [
    {
     "data": {
      "image/png": "[encoded data removed]",
      "text/plain": [
       "<Figure size 432x288 with 1 Axes>"
      ]
     },
     "metadata": {
      "needs_background": "light"
     },
     "output_type": "display_data"
    }
   ],
   "source": [
    "#https://www.machinelearningplus.com/plots/matplotlib-histogram-python-examples/\n",
    "\n",
    "x1 = table.loc[table.plan=='surf', 'duration']\n",
    "x2 = table.loc[table.plan=='ultimate', 'duration']\n",
    "\n",
    "kwargs = dict(alpha=0.5, bins=100, range=(1,900), density=True)\n",
    "\n",
    "plt.hist(x1, **kwargs, label='surf')\n",
    "plt.hist(x2, **kwargs, label='ultimate')\n",
    "\n",
    "plt.gca().set(title='Frequency histogram of surf and ultimate user call plan', ylabel='Frequency')\n",
    "#plt.xlim(50,75)\n",
    "plt.legend();"
   ]
  },
  {
   "cell_type": "markdown",
   "metadata": {},
   "source": [
    "The above histogram visualize the call duration for the plans surf and ulitmate. The range arguments was applied to remove the outliers as without range fucntion the values were not equally distributed.  Now both have a normal distribution."
   ]
  },
  {
   "cell_type": "code",
   "execution_count": 35,
   "metadata": {},
   "outputs": [
    {
     "data": {
      "image/png": "[encoded data removed]",
      "text/plain": [
       "<Figure size 432x288 with 1 Axes>"
      ]
     },
     "metadata": {
      "needs_background": "light"
     },
     "output_type": "display_data"
    }
   ],
   "source": [
    "x3 = table.loc[table.plan=='surf', 'gb_used']\n",
    "x4 = table.loc[table.plan=='ultimate', 'gb_used']\n",
    "\n",
    "kwargs = dict(alpha=0.5, bins=100, range=(0,35),density=True)\n",
    "\n",
    "plt.hist(x3, **kwargs,color='black', label='surf')\n",
    "plt.hist(x4, **kwargs,color='red', label='ultimate')\n",
    "\n",
    "plt.gca().set(title='Frequency histogram of surf and ultimate user data plan ', ylabel='Frequency')\n",
    "#plt.xlim(50,75)\n",
    "plt.legend();"
   ]
  },
  {
   "cell_type": "markdown",
   "metadata": {},
   "source": [
    "The above histogram visualize the call data usage for the plans surf and ulitmate. The range arguments was applied to remove the outliers as without range fucntion the values were not equally distributed. Now both have a normal distribution. It is informative that some customers dont really have use the data as there is a small peak at x-label 1. "
   ]
  },
  {
   "cell_type": "code",
   "execution_count": 36,
   "metadata": {},
   "outputs": [
    {
     "data": {
      "image/png": "[encoded data removed]",
      "text/plain": [
       "<Figure size 432x288 with 1 Axes>"
      ]
     },
     "metadata": {
      "needs_background": "light"
     },
     "output_type": "display_data"
    }
   ],
   "source": [
    "x5 = table.loc[table.plan=='surf', 'message_date']\n",
    "x6 = table.loc[table.plan=='ultimate', 'message_date']\n",
    "\n",
    "kwargs = dict(alpha=0.5, bins=100, range=(1,120),density=True)\n",
    "\n",
    "plt.hist(x5, **kwargs,color='b', label='surf')\n",
    "plt.hist(x6, **kwargs,color='green', label='ultimate')\n",
    "\n",
    "plt.gca().set(title='Frequency histogram of surf and ultimate user texts plan ', ylabel='Frequency')\n",
    "#plt.xlim(50,75)\n",
    "plt.legend();"
   ]
  },
  {
   "cell_type": "markdown",
   "metadata": {},
   "source": [
    "The above histogram visualize the text usage for the plans surf and ulitmate. The range arguments was applied to remove the outliers as without range fucntion the values were not equally distributed. Now both have a normal distribution."
   ]
  },
  {
   "cell_type": "markdown",
   "metadata": {},
   "source": [
    "#### Section 3.2: Conclusion.<a class=\"anchor\" id=\"section_3_2\"></a>"
   ]
  },
  {
   "cell_type": "markdown",
   "metadata": {},
   "source": [
    "In chapter 3, to find the minutes, texts and volume a customer required, the data columns duration, gb_used, texts, plan were added into another dataframe and grouped them by columns user_id and plan. The mean  was calculted the to get average usage for each customers. After that the histograms were plotted to visualize the relation between the users of both plans."
   ]
  },
  {
   "cell_type": "markdown",
   "metadata": {},
   "source": [
    "### Chapter 4: Test the hypotheses <a class=\"anchor\" id=\"chapter4\"></a>"
   ]
  },
  {
   "cell_type": "markdown",
   "metadata": {},
   "source": [
    "#### Section 4.1: The average revenue from users of Ultimate and Surf calling plans differs.<a class=\"anchor\" id=\"section_4_1\"></a>"
   ]
  },
  {
   "cell_type": "markdown",
   "metadata": {},
   "source": [
    "__Criterion to test the hypotheses and why?__\n",
    "\n",
    "Firstly, We decided to apply the Mann-Whitney U Test. We have two different sets of data as ultimate users and surf users. IN Mann-Whitney U test the two samples are combined and rank ordered together. The strategy is to determine if the values from the two samples are randomly mixed in the rank ordering or if they are clustered at opposite ends when combined.  random rank order would mean that the two samples are not different, while a cluster of one sample values would indicate a difference between them. In simple words, it observe the datasets distribution if the distribution is same the tests approved our assumtion otherwise we reject our assumption.\n",
    "\n",
    "__formulation of the null and alternative hypotheses__\n",
    "\n",
    "As the default assumption or null hypothesis is that there is no revenue difference between the distributions of the ultimate and surf plan users. Rejection of this hypothesis suggests that there is likely some difference between the reveneue of users. \n",
    "\n",
    "__Fail to Reject H0:__ Sample distributions are equal/Revenue is same.\n",
    "\n",
    "__Reject H0:__ Sample distributions are not equal/Revenue is not same.\n",
    "\n"
   ]
  },
  {
   "cell_type": "markdown",
   "metadata": {},
   "source": [
    "\n",
    "\n",
    "The average revenue from users in NY-NJ area is different from that of the users from other regions."
   ]
  },
  {
   "cell_type": "code",
   "execution_count": 37,
   "metadata": {},
   "outputs": [
    {
     "name": "stdout",
     "output_type": "stream",
     "text": [
      "The surf and ultimate plan has different revenue \"Reject H0\"\n"
     ]
    }
   ],
   "source": [
    "surf_user = table.loc[table.plan=='surf', 'total_cost'].reset_index()\n",
    "ultimate_user = table.loc[table.plan=='ultimate', 'total_cost'].reset_index()\n",
    "from scipy.stats import mannwhitneyu\n",
    "stat, p =mannwhitneyu(surf_user['total_cost'],ultimate_user['total_cost'])\n",
    "alpha=0.05\n",
    "if p >alpha:\n",
    "    print('the surf and ultimate plan has Same Revenue')\n",
    "else:\n",
    "    print('The surf and ultimate plan has different revenue \"Reject H0\"')\n",
    "\n",
    "#surf_user.head(2), ultimate_user.head(2)"
   ]
  },
  {
   "cell_type": "markdown",
   "metadata": {},
   "source": [
    "#### Section 4.2: The average revenue from users in NY-NJ area is different from that of the users from other regions.<a class=\"anchor\" id=\"section_4_2\"></a>"
   ]
  },
  {
   "cell_type": "markdown",
   "metadata": {},
   "source": [
    "To answer the question, first we will find the dataset city column uniques values."
   ]
  },
  {
   "cell_type": "code",
   "execution_count": 38,
   "metadata": {},
   "outputs": [
    {
     "data": {
      "text/plain": [
       "array(['Atlanta-Sandy Springs-Roswell, GA MSA',\n",
       "       'Seattle-Tacoma-Bellevue, WA MSA',\n",
       "       'Las Vegas-Henderson-Paradise, NV MSA', 'Tulsa, OK MSA',\n",
       "       'Dallas-Fort Worth-Arlington, TX MSA',\n",
       "       'San Francisco-Oakland-Berkeley, CA MSA',\n",
       "       'Grand Rapids-Kentwood, MI MSA',\n",
       "       'Orlando-Kissimmee-Sanford, FL MSA',\n",
       "       'San Jose-Sunnyvale-Santa Clara, CA MSA',\n",
       "       'Cleveland-Elyria, OH MSA',\n",
       "       'Chicago-Naperville-Elgin, IL-IN-WI MSA', 'Knoxville, TN MSA',\n",
       "       'New York-Newark-Jersey City, NY-NJ-PA MSA', 'Pittsburgh, PA MSA',\n",
       "       'Fresno, CA MSA',\n",
       "       'Washington-Arlington-Alexandria, DC-VA-MD-WV MSA',\n",
       "       'Indianapolis-Carmel-Anderson, IN MSA', 'Jacksonville, FL MSA',\n",
       "       'Los Angeles-Long Beach-Anaheim, CA MSA',\n",
       "       'Omaha-Council Bluffs, NE-IA MSA',\n",
       "       'Houston-The Woodlands-Sugar Land, TX MSA',\n",
       "       'Philadelphia-Camden-Wilmington, PA-NJ-DE-MD MSA',\n",
       "       'Tampa-St. Petersburg-Clearwater, FL MSA',\n",
       "       'Birmingham-Hoover, AL MSA', 'Oklahoma City, OK MSA',\n",
       "       'Charlotte-Concord-Gastonia, NC-SC MSA',\n",
       "       'Denver-Aurora-Lakewood, CO MSA',\n",
       "       'Nashville-Davidson–Murfreesboro–Franklin, TN MSA',\n",
       "       'Columbus, OH MSA', 'Albuquerque, NM MSA',\n",
       "       'Boston-Cambridge-Newton, MA-NH MSA',\n",
       "       'Miami-Fort Lauderdale-West Palm Beach, FL MSA',\n",
       "       'San Diego-Chula Vista-Carlsbad, CA MSA',\n",
       "       'Phoenix-Mesa-Chandler, AZ MSA',\n",
       "       'Portland-Vancouver-Hillsboro, OR-WA MSA',\n",
       "       'Cincinnati, OH-KY-IN MSA', 'Columbia, SC MSA',\n",
       "       'San Antonio-New Braunfels, TX MSA', 'Buffalo-Cheektowaga, NY MSA',\n",
       "       'Memphis, TN-MS-AR MSA',\n",
       "       'Riverside-San Bernardino-Ontario, CA MSA',\n",
       "       'Louisville/Jefferson County, KY-IN MSA',\n",
       "       'Albany-Schenectady-Troy, NY MSA', 'Providence-Warwick, RI-MA MSA',\n",
       "       'Urban Honolulu, HI MSA', 'El Paso, TX MSA',\n",
       "       'New Haven-Milford, CT MSA',\n",
       "       'North Port-Sarasota-Bradenton, FL MSA',\n",
       "       'New Orleans-Metairie, LA MSA',\n",
       "       'Bridgeport-Stamford-Norwalk, CT MSA',\n",
       "       'Virginia Beach-Norfolk-Newport News, VA-NC MSA',\n",
       "       'Baltimore-Columbia-Towson, MD MSA', 'Milwaukee-Waukesha, WI MSA',\n",
       "       'Oxnard-Thousand Oaks-Ventura, CA MSA',\n",
       "       'Sacramento–Roseville–Folsom, CA MSA',\n",
       "       'Austin-Round Rock-Georgetown, TX MSA', 'Richmond, VA MSA',\n",
       "       'St. Louis, MO-IL MSA',\n",
       "       'Minneapolis-St. Paul-Bloomington, MN-WI MSA',\n",
       "       'Dayton-Kettering, OH MSA', 'Bakersfield, CA MSA',\n",
       "       'Detroit-Warren-Dearborn, MI MSA', 'Baton Rouge, LA MSA',\n",
       "       'Kansas City, MO-KS MSA', 'Charleston-North Charleston, SC MSA',\n",
       "       'Rochester, NY MSA', 'Raleigh-Cary, NC MSA',\n",
       "       'Greensboro-High Point, NC MSA', 'Tucson, AZ MSA',\n",
       "       'Colorado Springs, CO MSA', 'Stockton, CA MSA',\n",
       "       'Salt Lake City, UT MSA', 'Cape Coral-Fort Myers, FL MSA'],\n",
       "      dtype=object)"
      ]
     },
     "execution_count": 38,
     "metadata": {},
     "output_type": "execute_result"
    }
   ],
   "source": [
    "df['city'].unique()"
   ]
  },
  {
   "cell_type": "code",
   "execution_count": 39,
   "metadata": {},
   "outputs": [
    {
     "data": {
      "text/html": [
       "<div>\n",
       "<style scoped>\n",
       "    .dataframe tbody tr th:only-of-type {\n",
       "        vertical-align: middle;\n",
       "    }\n",
       "\n",
       "    .dataframe tbody tr th {\n",
       "        vertical-align: top;\n",
       "    }\n",
       "\n",
       "    .dataframe thead th {\n",
       "        text-align: right;\n",
       "    }\n",
       "</style>\n",
       "<table border=\"1\" class=\"dataframe\">\n",
       "  <thead>\n",
       "    <tr style=\"text-align: right;\">\n",
       "      <th></th>\n",
       "      <th>city</th>\n",
       "      <th>total_cost</th>\n",
       "    </tr>\n",
       "  </thead>\n",
       "  <tbody>\n",
       "    <tr>\n",
       "      <th>56</th>\n",
       "      <td>New York-Newark-Jersey City, NY-NJ-PA MSA</td>\n",
       "      <td>20.00</td>\n",
       "    </tr>\n",
       "    <tr>\n",
       "      <th>57</th>\n",
       "      <td>New York-Newark-Jersey City, NY-NJ-PA MSA</td>\n",
       "      <td>38.84</td>\n",
       "    </tr>\n",
       "  </tbody>\n",
       "</table>\n",
       "</div>"
      ],
      "text/plain": [
       "                                         city  total_cost\n",
       "56  New York-Newark-Jersey City, NY-NJ-PA MSA       20.00\n",
       "57  New York-Newark-Jersey City, NY-NJ-PA MSA       38.84"
      ]
     },
     "execution_count": 39,
     "metadata": {},
     "output_type": "execute_result"
    }
   ],
   "source": [
    "region_ny_nj=df[df['city']=='New York-Newark-Jersey City, NY-NJ-PA MSA']\n",
    "revenue_ny_nj=region_ny_nj[['city','total_cost']]\n",
    "revenue_ny_nj.head(2)"
   ]
  },
  {
   "cell_type": "code",
   "execution_count": 40,
   "metadata": {},
   "outputs": [
    {
     "data": {
      "text/html": [
       "<div>\n",
       "<style scoped>\n",
       "    .dataframe tbody tr th:only-of-type {\n",
       "        vertical-align: middle;\n",
       "    }\n",
       "\n",
       "    .dataframe tbody tr th {\n",
       "        vertical-align: top;\n",
       "    }\n",
       "\n",
       "    .dataframe thead th {\n",
       "        text-align: right;\n",
       "    }\n",
       "</style>\n",
       "<table border=\"1\" class=\"dataframe\">\n",
       "  <thead>\n",
       "    <tr style=\"text-align: right;\">\n",
       "      <th></th>\n",
       "      <th>city</th>\n",
       "      <th>total_cost</th>\n",
       "    </tr>\n",
       "  </thead>\n",
       "  <tbody>\n",
       "    <tr>\n",
       "      <th>0</th>\n",
       "      <td>Atlanta-Sandy Springs-Roswell, GA MSA</td>\n",
       "      <td>70.0</td>\n",
       "    </tr>\n",
       "    <tr>\n",
       "      <th>1</th>\n",
       "      <td>Seattle-Tacoma-Bellevue, WA MSA</td>\n",
       "      <td>20.0</td>\n",
       "    </tr>\n",
       "  </tbody>\n",
       "</table>\n",
       "</div>"
      ],
      "text/plain": [
       "                                    city  total_cost\n",
       "0  Atlanta-Sandy Springs-Roswell, GA MSA        70.0\n",
       "1        Seattle-Tacoma-Bellevue, WA MSA        20.0"
      ]
     },
     "execution_count": 40,
     "metadata": {},
     "output_type": "execute_result"
    }
   ],
   "source": [
    "region_other=df[df['city']!='New York-Newark-Jersey City, NY-NJ-PA MSA']\n",
    "revenue_other=region_other[['city','total_cost']]\n",
    "revenue_other.head(2)"
   ]
  },
  {
   "cell_type": "markdown",
   "metadata": {},
   "source": [
    "We have divided our dataset into two dfs, one for NY_NJ cities and second for the other regions. \n",
    "\n",
    "We have applied the Mann Whiteney U test as in first part the assumption and the H0 hypothsis concluded also same way.\n",
    "\n",
    "\n",
    "__formulation of the null and alternative hypotheses__\n",
    "\n",
    "As the default assumption or null hypothesis is that there is no revenue difference between the distributions of the both regions. Rejection of this hypothesis suggests that there is likely some difference between the reveneue of regions. \n",
    "\n",
    "__Fail to Reject H0:__ Regions distributions are equal/Revenue is same.\n",
    "\n",
    "__Reject H0:__ Regions distributions are not equal/Revenue is not same.\n"
   ]
  },
  {
   "cell_type": "code",
   "execution_count": 41,
   "metadata": {},
   "outputs": [
    {
     "name": "stdout",
     "output_type": "stream",
     "text": [
      "The region NY-NJ and other region have  different revenue \"Reject H0\"\n"
     ]
    }
   ],
   "source": [
    "'''surf_user = table.loc[table.plan=='surf', 'total_cost'].reset_index()\n",
    "ultimate_user = table.loc[table.plan=='ultimate', 'total_cost'].reset_index()'''\n",
    "from scipy.stats import mannwhitneyu\n",
    "stat, p =mannwhitneyu(revenue_ny_nj['total_cost'],revenue_other['total_cost'])\n",
    "alpha=0.05\n",
    "if p >alpha:\n",
    "    print('The region NY-NJ and other region have Same Revenue \"Verify H0\"')\n",
    "else:\n",
    "    print('The region NY-NJ and other region have  different revenue \"Reject H0\"')\n",
    "\n",
    "#surf_user.head(2), ultimate_user.head(2)"
   ]
  },
  {
   "cell_type": "markdown",
   "metadata": {},
   "source": [
    "#### Section 4.3: Conclusion.<a class=\"anchor\" id=\"section_4_3\"></a>"
   ]
  },
  {
   "cell_type": "markdown",
   "metadata": {},
   "source": [
    "In chapter 4, We tested the hypothsis for revenue. The base was two differnent dataset of the origional dataset. We applied Mann-Whitney U tests which observe the distribution of both dfs if the distribution is same it verify the H0 hypothsis otherwise reject it. In both the tests we assume that the H0= Same revenue. The results rejected our H0 and we can conclude that both plans(surf, ultimate) and regions(NY-NJ and Other) have different revenues. "
   ]
  },
  {
   "cell_type": "markdown",
   "metadata": {},
   "source": [
    "### Chapter 5: Conclusion <a class=\"anchor\" id=\"chapter5\"></a>"
   ]
  },
  {
   "cell_type": "markdown",
   "metadata": {},
   "source": [
    "In chapter 1, the all data files data_calls, data_users, data_minutes, data_internet, and data_plan is imported to the notebook. In data_calls as the megaline describe there are indicies with value 0 and these values represents the missed calls. We draw the histogram and observe the behavior of these values equal to zero. These were creating the skewness and we concluded them as outliers and remove missed calls values from data. After theat we round up the seconds values as megaline consider less than a minute values as a minutes. The next data_sets have no missing values or data_error so they are ready for further analysis.\n",
    "\n",
    "In chapter 2, First we converted the datasets columns date to the date_time format and after added the month columns in each df, We already removed the missed calls and rounded up sec to min values in chapter 1. After that mbs were converted to the gbs in gb_used column. To find answer the number of calls, mbs and texts the corresponding dataset was grouped and by application of the aggfunc of sum and count we calculated the values. Then all three datasets were merged which gave us the total calls, mb, and texts values for each customers. To calculate the revenue from each user, we divided the df into two parts basis on plan and write a function which calculate revenue for users depending upon the plan of customers. After applying the function on our dataset we have a total_cost df which provides the revenue from each customers depending upon the plan and overcharging if the customer overused the services.\n",
    "\n",
    "In chapter 3, to find the minutes, texts and volume a customer required, the data columns duration, gb_used, texts, plan were added into another dataframe and grouped them by columns user_id and plan. The mean was calculted the to get average usage for each customers. After that the histograms were plotted to visualize the relation between the users of both plans.\n",
    "\n",
    "In chapter 4, We tested the hypothsis for revenue. The base was two differnent dataset of the origional dataset. We applied Mann-Whitney U tests which observe the distribution of both dfs if the distribution is same it verify the H0 hypothsis otherwise reject it. In both the tests we assume that the H0= Same revenue. The results rejected our H0 and we can conclude that both plans(surf, ultimate) and regions(NY-NJ and Other) have different revenues."
   ]
  }
 ],
 "metadata": {
  "ExecuteTimeLog": [
   {
    "duration": 935,
    "start_time": "2021-06-22T13:02:18.417Z"
   },
   {
    "duration": 4539,
    "start_time": "2021-06-22T13:02:19.354Z"
   },
   {
    "duration": -2348,
    "start_time": "2021-06-22T13:02:26.245Z"
   },
   {
    "duration": -2355,
    "start_time": "2021-06-22T13:02:26.253Z"
   },
   {
    "duration": -2356,
    "start_time": "2021-06-22T13:02:26.256Z"
   },
   {
    "duration": -2357,
    "start_time": "2021-06-22T13:02:26.259Z"
   },
   {
    "duration": -2358,
    "start_time": "2021-06-22T13:02:26.262Z"
   },
   {
    "duration": -2360,
    "start_time": "2021-06-22T13:02:26.265Z"
   },
   {
    "duration": -2361,
    "start_time": "2021-06-22T13:02:26.267Z"
   },
   {
    "duration": -2368,
    "start_time": "2021-06-22T13:02:26.275Z"
   },
   {
    "duration": -2377,
    "start_time": "2021-06-22T13:02:26.286Z"
   },
   {
    "duration": -2379,
    "start_time": "2021-06-22T13:02:26.289Z"
   },
   {
    "duration": -2380,
    "start_time": "2021-06-22T13:02:26.291Z"
   },
   {
    "duration": -2381,
    "start_time": "2021-06-22T13:02:26.293Z"
   },
   {
    "duration": -2383,
    "start_time": "2021-06-22T13:02:26.297Z"
   },
   {
    "duration": -2388,
    "start_time": "2021-06-22T13:02:26.303Z"
   },
   {
    "duration": -2390,
    "start_time": "2021-06-22T13:02:26.306Z"
   },
   {
    "duration": -2392,
    "start_time": "2021-06-22T13:02:26.309Z"
   },
   {
    "duration": -2400,
    "start_time": "2021-06-22T13:02:26.318Z"
   },
   {
    "duration": -2402,
    "start_time": "2021-06-22T13:02:26.321Z"
   },
   {
    "duration": -2403,
    "start_time": "2021-06-22T13:02:26.324Z"
   },
   {
    "duration": -2405,
    "start_time": "2021-06-22T13:02:26.327Z"
   },
   {
    "duration": -2407,
    "start_time": "2021-06-22T13:02:26.330Z"
   },
   {
    "duration": -2413,
    "start_time": "2021-06-22T13:02:26.337Z"
   },
   {
    "duration": -2415,
    "start_time": "2021-06-22T13:02:26.340Z"
   },
   {
    "duration": -2415,
    "start_time": "2021-06-22T13:02:26.342Z"
   },
   {
    "duration": -2416,
    "start_time": "2021-06-22T13:02:26.344Z"
   },
   {
    "duration": -2418,
    "start_time": "2021-06-22T13:02:26.347Z"
   },
   {
    "duration": -2423,
    "start_time": "2021-06-22T13:02:26.353Z"
   },
   {
    "duration": -2424,
    "start_time": "2021-06-22T13:02:26.355Z"
   },
   {
    "duration": -2426,
    "start_time": "2021-06-22T13:02:26.358Z"
   },
   {
    "duration": -2426,
    "start_time": "2021-06-22T13:02:26.360Z"
   },
   {
    "duration": -2413,
    "start_time": "2021-06-22T13:02:26.367Z"
   },
   {
    "duration": -2415,
    "start_time": "2021-06-22T13:02:26.370Z"
   },
   {
    "duration": -2415,
    "start_time": "2021-06-22T13:02:26.372Z"
   },
   {
    "duration": -2416,
    "start_time": "2021-06-22T13:02:26.374Z"
   },
   {
    "duration": -2417,
    "start_time": "2021-06-22T13:02:26.376Z"
   },
   {
    "duration": -2418,
    "start_time": "2021-06-22T13:02:26.379Z"
   },
   {
    "duration": -2420,
    "start_time": "2021-06-22T13:02:26.382Z"
   },
   {
    "duration": -2422,
    "start_time": "2021-06-22T13:02:26.385Z"
   },
   {
    "duration": -2423,
    "start_time": "2021-06-22T13:02:26.387Z"
   },
   {
    "duration": 935,
    "start_time": "2021-08-15T02:36:14.258Z"
   },
   {
    "duration": 5985,
    "start_time": "2021-08-15T02:36:15.196Z"
   },
   {
    "duration": -1438,
    "start_time": "2021-08-15T02:36:22.626Z"
   },
   {
    "duration": -1451,
    "start_time": "2021-08-15T02:36:22.640Z"
   },
   {
    "duration": -1457,
    "start_time": "2021-08-15T02:36:22.648Z"
   },
   {
    "duration": -1460,
    "start_time": "2021-08-15T02:36:22.654Z"
   },
   {
    "duration": -1698,
    "start_time": "2021-08-15T02:36:22.893Z"
   },
   {
    "duration": -2253,
    "start_time": "2021-08-15T02:36:23.450Z"
   },
   {
    "duration": -2275,
    "start_time": "2021-08-15T02:36:23.474Z"
   },
   {
    "duration": -2431,
    "start_time": "2021-08-15T02:36:23.633Z"
   },
   {
    "duration": -2452,
    "start_time": "2021-08-15T02:36:23.656Z"
   },
   {
    "duration": -2474,
    "start_time": "2021-08-15T02:36:23.680Z"
   },
   {
    "duration": -2676,
    "start_time": "2021-08-15T02:36:23.884Z"
   },
   {
    "duration": -2681,
    "start_time": "2021-08-15T02:36:23.891Z"
   },
   {
    "duration": -5614,
    "start_time": "2021-08-15T02:36:26.826Z"
   },
   {
    "duration": -5624,
    "start_time": "2021-08-15T02:36:26.838Z"
   },
   {
    "duration": -5626,
    "start_time": "2021-08-15T02:36:26.842Z"
   },
   {
    "duration": -5630,
    "start_time": "2021-08-15T02:36:26.848Z"
   },
   {
    "duration": -5634,
    "start_time": "2021-08-15T02:36:26.854Z"
   },
   {
    "duration": -6777,
    "start_time": "2021-08-15T02:36:27.999Z"
   },
   {
    "duration": -6786,
    "start_time": "2021-08-15T02:36:28.010Z"
   },
   {
    "duration": -6795,
    "start_time": "2021-08-15T02:36:28.021Z"
   },
   {
    "duration": -6813,
    "start_time": "2021-08-15T02:36:28.041Z"
   },
   {
    "duration": -6984,
    "start_time": "2021-08-15T02:36:28.214Z"
   },
   {
    "duration": -6992,
    "start_time": "2021-08-15T02:36:28.224Z"
   },
   {
    "duration": -6943,
    "start_time": "2021-08-15T02:36:28.229Z"
   },
   {
    "duration": -15548,
    "start_time": "2021-08-15T02:36:36.836Z"
   },
   {
    "duration": -15557,
    "start_time": "2021-08-15T02:36:36.847Z"
   },
   {
    "duration": -15560,
    "start_time": "2021-08-15T02:36:36.852Z"
   },
   {
    "duration": -29100,
    "start_time": "2021-08-15T02:36:50.394Z"
   },
   {
    "duration": -55610,
    "start_time": "2021-08-15T02:37:16.906Z"
   },
   {
    "duration": -56172,
    "start_time": "2021-08-15T02:37:17.470Z"
   },
   {
    "duration": -56181,
    "start_time": "2021-08-15T02:37:17.481Z"
   },
   {
    "duration": -56352,
    "start_time": "2021-08-15T02:37:17.655Z"
   },
   {
    "duration": -56360,
    "start_time": "2021-08-15T02:37:17.664Z"
   },
   {
    "duration": -56539,
    "start_time": "2021-08-15T02:37:17.846Z"
   },
   {
    "duration": -56543,
    "start_time": "2021-08-15T02:37:17.852Z"
   },
   {
    "duration": -56546,
    "start_time": "2021-08-15T02:37:17.857Z"
   },
   {
    "duration": -56908,
    "start_time": "2021-08-15T02:37:18.221Z"
   },
   {
    "duration": -56915,
    "start_time": "2021-08-15T02:37:18.230Z"
   },
   {
    "duration": -57090,
    "start_time": "2021-08-15T02:37:18.407Z"
   },
   {
    "duration": 5458,
    "start_time": "2021-08-15T02:36:47.586Z"
   },
   {
    "duration": 5663,
    "start_time": "2021-08-15T02:40:41.867Z"
   },
   {
    "duration": 5767,
    "start_time": "2021-08-15T02:41:38.744Z"
   },
   {
    "duration": 6437,
    "start_time": "2021-08-15T02:42:18.085Z"
   },
   {
    "duration": 6456,
    "start_time": "2021-08-15T02:42:31.684Z"
   },
   {
    "duration": 924,
    "start_time": "2021-08-25T14:54:40.867Z"
   },
   {
    "duration": 6228,
    "start_time": "2021-08-25T14:54:41.793Z"
   },
   {
    "duration": -1356,
    "start_time": "2021-08-25T14:54:49.381Z"
   },
   {
    "duration": -1520,
    "start_time": "2021-08-25T14:54:49.547Z"
   },
   {
    "duration": -1527,
    "start_time": "2021-08-25T14:54:49.555Z"
   },
   {
    "duration": -1534,
    "start_time": "2021-08-25T14:54:49.563Z"
   },
   {
    "duration": -1543,
    "start_time": "2021-08-25T14:54:49.574Z"
   },
   {
    "duration": -1554,
    "start_time": "2021-08-25T14:54:49.586Z"
   },
   {
    "duration": -1564,
    "start_time": "2021-08-25T14:54:49.597Z"
   },
   {
    "duration": -1569,
    "start_time": "2021-08-25T14:54:49.604Z"
   },
   {
    "duration": -1773,
    "start_time": "2021-08-25T14:54:49.809Z"
   },
   {
    "duration": -1773,
    "start_time": "2021-08-25T14:54:49.811Z"
   },
   {
    "duration": -1774,
    "start_time": "2021-08-25T14:54:49.813Z"
   },
   {
    "duration": -1776,
    "start_time": "2021-08-25T14:54:49.816Z"
   },
   {
    "duration": -1784,
    "start_time": "2021-08-25T14:54:49.826Z"
   },
   {
    "duration": -1786,
    "start_time": "2021-08-25T14:54:49.829Z"
   },
   {
    "duration": -1787,
    "start_time": "2021-08-25T14:54:49.832Z"
   },
   {
    "duration": -1823,
    "start_time": "2021-08-25T14:54:49.869Z"
   },
   {
    "duration": -1827,
    "start_time": "2021-08-25T14:54:49.875Z"
   },
   {
    "duration": -1830,
    "start_time": "2021-08-25T14:54:49.879Z"
   },
   {
    "duration": -1829,
    "start_time": "2021-08-25T14:54:49.881Z"
   },
   {
    "duration": -1834,
    "start_time": "2021-08-25T14:54:49.888Z"
   },
   {
    "duration": -1836,
    "start_time": "2021-08-25T14:54:49.891Z"
   },
   {
    "duration": -1837,
    "start_time": "2021-08-25T14:54:49.894Z"
   },
   {
    "duration": -1838,
    "start_time": "2021-08-25T14:54:49.896Z"
   },
   {
    "duration": -2017,
    "start_time": "2021-08-25T14:54:50.076Z"
   },
   {
    "duration": -2018,
    "start_time": "2021-08-25T14:54:50.079Z"
   },
   {
    "duration": -1996,
    "start_time": "2021-08-25T14:54:50.081Z"
   },
   {
    "duration": -1999,
    "start_time": "2021-08-25T14:54:50.086Z"
   },
   {
    "duration": -2009,
    "start_time": "2021-08-25T14:54:50.097Z"
   },
   {
    "duration": -2011,
    "start_time": "2021-08-25T14:54:50.101Z"
   },
   {
    "duration": -2022,
    "start_time": "2021-08-25T14:54:50.113Z"
   },
   {
    "duration": -2121,
    "start_time": "2021-08-25T14:54:50.214Z"
   },
   {
    "duration": -2151,
    "start_time": "2021-08-25T14:54:50.245Z"
   },
   {
    "duration": -2151,
    "start_time": "2021-08-25T14:54:50.247Z"
   },
   {
    "duration": -2151,
    "start_time": "2021-08-25T14:54:50.249Z"
   },
   {
    "duration": -2157,
    "start_time": "2021-08-25T14:54:50.256Z"
   },
   {
    "duration": -2160,
    "start_time": "2021-08-25T14:54:50.261Z"
   },
   {
    "duration": -2162,
    "start_time": "2021-08-25T14:54:50.264Z"
   },
   {
    "duration": -2162,
    "start_time": "2021-08-25T14:54:50.266Z"
   },
   {
    "duration": -2262,
    "start_time": "2021-08-25T14:54:50.367Z"
   },
   {
    "duration": 590,
    "start_time": "2021-08-25T19:44:44.484Z"
   },
   {
    "duration": 628,
    "start_time": "2021-08-25T19:44:48.379Z"
   },
   {
    "duration": 134,
    "start_time": "2021-08-25T19:44:50.940Z"
   },
   {
    "duration": 866,
    "start_time": "2021-08-25T19:45:02.530Z"
   },
   {
    "duration": 122,
    "start_time": "2021-08-25T19:45:03.398Z"
   },
   {
    "duration": 23,
    "start_time": "2021-08-25T19:45:03.523Z"
   },
   {
    "duration": 75,
    "start_time": "2021-08-25T19:45:03.547Z"
   },
   {
    "duration": 27,
    "start_time": "2021-08-25T19:45:03.623Z"
   },
   {
    "duration": 5,
    "start_time": "2021-08-25T19:45:03.651Z"
   },
   {
    "duration": 19,
    "start_time": "2021-08-25T19:45:03.658Z"
   },
   {
    "duration": 396,
    "start_time": "2021-08-25T19:45:03.679Z"
   },
   {
    "duration": 18,
    "start_time": "2021-08-25T19:45:04.077Z"
   },
   {
    "duration": 19,
    "start_time": "2021-08-25T19:45:04.096Z"
   },
   {
    "duration": 338,
    "start_time": "2021-08-25T19:45:04.116Z"
   },
   {
    "duration": 4091,
    "start_time": "2021-08-25T19:45:04.456Z"
   },
   {
    "duration": -1508,
    "start_time": "2021-08-25T19:45:10.058Z"
   },
   {
    "duration": -1514,
    "start_time": "2021-08-25T19:45:10.065Z"
   },
   {
    "duration": -1821,
    "start_time": "2021-08-25T19:45:10.373Z"
   },
   {
    "duration": -1839,
    "start_time": "2021-08-25T19:45:10.392Z"
   },
   {
    "duration": -1849,
    "start_time": "2021-08-25T19:45:10.403Z"
   },
   {
    "duration": -1859,
    "start_time": "2021-08-25T19:45:10.413Z"
   },
   {
    "duration": -1865,
    "start_time": "2021-08-25T19:45:10.420Z"
   },
   {
    "duration": -1869,
    "start_time": "2021-08-25T19:45:10.425Z"
   },
   {
    "duration": -1871,
    "start_time": "2021-08-25T19:45:10.428Z"
   },
   {
    "duration": -1875,
    "start_time": "2021-08-25T19:45:10.432Z"
   },
   {
    "duration": -1827,
    "start_time": "2021-08-25T19:45:10.435Z"
   },
   {
    "duration": -2265,
    "start_time": "2021-08-25T19:45:10.874Z"
   },
   {
    "duration": -2284,
    "start_time": "2021-08-25T19:45:10.893Z"
   },
   {
    "duration": -2290,
    "start_time": "2021-08-25T19:45:10.900Z"
   },
   {
    "duration": -2293,
    "start_time": "2021-08-25T19:45:10.904Z"
   },
   {
    "duration": -2297,
    "start_time": "2021-08-25T19:45:10.909Z"
   },
   {
    "duration": -2271,
    "start_time": "2021-08-25T19:45:10.912Z"
   },
   {
    "duration": -2274,
    "start_time": "2021-08-25T19:45:10.915Z"
   },
   {
    "duration": -2276,
    "start_time": "2021-08-25T19:45:10.918Z"
   },
   {
    "duration": -2278,
    "start_time": "2021-08-25T19:45:10.921Z"
   },
   {
    "duration": -2280,
    "start_time": "2021-08-25T19:45:10.924Z"
   },
   {
    "duration": -2282,
    "start_time": "2021-08-25T19:45:10.927Z"
   },
   {
    "duration": -2284,
    "start_time": "2021-08-25T19:45:10.930Z"
   },
   {
    "duration": -2533,
    "start_time": "2021-08-25T19:45:11.180Z"
   },
   {
    "duration": -2550,
    "start_time": "2021-08-25T19:45:11.198Z"
   },
   {
    "duration": -2560,
    "start_time": "2021-08-25T19:45:11.208Z"
   },
   {
    "duration": -2564,
    "start_time": "2021-08-25T19:45:11.213Z"
   },
   {
    "duration": -2568,
    "start_time": "2021-08-25T19:45:11.218Z"
   },
   {
    "duration": -2570,
    "start_time": "2021-08-25T19:45:11.221Z"
   },
   {
    "duration": 95,
    "start_time": "2021-08-25T19:46:14.468Z"
   },
   {
    "duration": 671,
    "start_time": "2021-08-25T19:46:28.341Z"
   },
   {
    "duration": 113,
    "start_time": "2021-08-25T19:46:29.013Z"
   },
   {
    "duration": 17,
    "start_time": "2021-08-25T19:46:29.128Z"
   },
   {
    "duration": 67,
    "start_time": "2021-08-25T19:46:29.147Z"
   },
   {
    "duration": 29,
    "start_time": "2021-08-25T19:46:29.215Z"
   },
   {
    "duration": 5,
    "start_time": "2021-08-25T19:46:29.246Z"
   },
   {
    "duration": 6,
    "start_time": "2021-08-25T19:46:29.252Z"
   },
   {
    "duration": 310,
    "start_time": "2021-08-25T19:46:29.260Z"
   },
   {
    "duration": 17,
    "start_time": "2021-08-25T19:46:29.571Z"
   },
   {
    "duration": 12,
    "start_time": "2021-08-25T19:46:29.590Z"
   },
   {
    "duration": 314,
    "start_time": "2021-08-25T19:46:29.604Z"
   },
   {
    "duration": 86,
    "start_time": "2021-08-25T19:46:29.919Z"
   },
   {
    "duration": 14,
    "start_time": "2021-08-25T19:46:30.007Z"
   },
   {
    "duration": 23,
    "start_time": "2021-08-25T19:46:30.023Z"
   },
   {
    "duration": 4230,
    "start_time": "2021-08-25T19:46:30.048Z"
   },
   {
    "duration": -1227,
    "start_time": "2021-08-25T19:46:35.555Z"
   },
   {
    "duration": -1230,
    "start_time": "2021-08-25T19:46:35.559Z"
   },
   {
    "duration": -1230,
    "start_time": "2021-08-25T19:46:35.561Z"
   },
   {
    "duration": -1234,
    "start_time": "2021-08-25T19:46:35.566Z"
   },
   {
    "duration": -1235,
    "start_time": "2021-08-25T19:46:35.568Z"
   },
   {
    "duration": -1238,
    "start_time": "2021-08-25T19:46:35.571Z"
   },
   {
    "duration": -1241,
    "start_time": "2021-08-25T19:46:35.575Z"
   },
   {
    "duration": -1244,
    "start_time": "2021-08-25T19:46:35.579Z"
   },
   {
    "duration": -1534,
    "start_time": "2021-08-25T19:46:35.870Z"
   },
   {
    "duration": -1554,
    "start_time": "2021-08-25T19:46:35.891Z"
   },
   {
    "duration": -1564,
    "start_time": "2021-08-25T19:46:35.902Z"
   },
   {
    "duration": -1572,
    "start_time": "2021-08-25T19:46:35.911Z"
   },
   {
    "duration": -1577,
    "start_time": "2021-08-25T19:46:35.917Z"
   },
   {
    "duration": -1581,
    "start_time": "2021-08-25T19:46:35.922Z"
   },
   {
    "duration": -1585,
    "start_time": "2021-08-25T19:46:35.926Z"
   },
   {
    "duration": -1587,
    "start_time": "2021-08-25T19:46:35.929Z"
   },
   {
    "duration": -1589,
    "start_time": "2021-08-25T19:46:35.932Z"
   },
   {
    "duration": -1591,
    "start_time": "2021-08-25T19:46:35.935Z"
   },
   {
    "duration": -1593,
    "start_time": "2021-08-25T19:46:35.937Z"
   },
   {
    "duration": -1595,
    "start_time": "2021-08-25T19:46:35.940Z"
   },
   {
    "duration": -1597,
    "start_time": "2021-08-25T19:46:35.943Z"
   },
   {
    "duration": -1599,
    "start_time": "2021-08-25T19:46:35.945Z"
   },
   {
    "duration": -1601,
    "start_time": "2021-08-25T19:46:35.948Z"
   },
   {
    "duration": -1602,
    "start_time": "2021-08-25T19:46:35.950Z"
   },
   {
    "duration": -1604,
    "start_time": "2021-08-25T19:46:35.953Z"
   },
   {
    "duration": -1606,
    "start_time": "2021-08-25T19:46:35.955Z"
   },
   {
    "duration": 617,
    "start_time": "2021-08-25T19:47:17.988Z"
   },
   {
    "duration": 121,
    "start_time": "2021-08-25T19:47:18.606Z"
   },
   {
    "duration": 16,
    "start_time": "2021-08-25T19:47:18.729Z"
   },
   {
    "duration": 86,
    "start_time": "2021-08-25T19:47:18.747Z"
   },
   {
    "duration": 15,
    "start_time": "2021-08-25T19:47:18.835Z"
   },
   {
    "duration": 5,
    "start_time": "2021-08-25T19:47:18.853Z"
   },
   {
    "duration": 9,
    "start_time": "2021-08-25T19:47:18.860Z"
   },
   {
    "duration": 331,
    "start_time": "2021-08-25T19:47:18.872Z"
   },
   {
    "duration": 17,
    "start_time": "2021-08-25T19:47:19.205Z"
   },
   {
    "duration": 26,
    "start_time": "2021-08-25T19:47:19.223Z"
   },
   {
    "duration": 309,
    "start_time": "2021-08-25T19:47:19.251Z"
   },
   {
    "duration": 88,
    "start_time": "2021-08-25T19:47:19.561Z"
   },
   {
    "duration": 12,
    "start_time": "2021-08-25T19:47:19.650Z"
   },
   {
    "duration": 28,
    "start_time": "2021-08-25T19:47:19.664Z"
   },
   {
    "duration": 66,
    "start_time": "2021-08-25T19:47:19.693Z"
   },
   {
    "duration": 11,
    "start_time": "2021-08-25T19:47:19.760Z"
   },
   {
    "duration": 20,
    "start_time": "2021-08-25T19:47:19.772Z"
   },
   {
    "duration": 85,
    "start_time": "2021-08-25T19:47:19.794Z"
   },
   {
    "duration": 51,
    "start_time": "2021-08-25T19:47:19.881Z"
   },
   {
    "duration": 18,
    "start_time": "2021-08-25T19:47:19.934Z"
   },
   {
    "duration": 94,
    "start_time": "2021-08-25T19:47:19.953Z"
   },
   {
    "duration": 42,
    "start_time": "2021-08-25T19:47:20.049Z"
   },
   {
    "duration": 48,
    "start_time": "2021-08-25T19:47:20.094Z"
   },
   {
    "duration": 8,
    "start_time": "2021-08-25T19:47:20.144Z"
   },
   {
    "duration": 41,
    "start_time": "2021-08-25T19:47:20.154Z"
   },
   {
    "duration": 12,
    "start_time": "2021-08-25T19:47:20.196Z"
   },
   {
    "duration": 21,
    "start_time": "2021-08-25T19:47:20.210Z"
   },
   {
    "duration": 26,
    "start_time": "2021-08-25T19:47:20.233Z"
   },
   {
    "duration": 100,
    "start_time": "2021-08-25T19:47:20.261Z"
   },
   {
    "duration": 8,
    "start_time": "2021-08-25T19:47:20.362Z"
   },
   {
    "duration": 46,
    "start_time": "2021-08-25T19:47:20.371Z"
   },
   {
    "duration": 15,
    "start_time": "2021-08-25T19:47:20.419Z"
   },
   {
    "duration": 37,
    "start_time": "2021-08-25T19:47:20.435Z"
   },
   {
    "duration": 548,
    "start_time": "2021-08-25T19:47:20.474Z"
   },
   {
    "duration": 583,
    "start_time": "2021-08-25T19:47:21.024Z"
   },
   {
    "duration": 551,
    "start_time": "2021-08-25T19:47:21.609Z"
   },
   {
    "duration": 508,
    "start_time": "2021-08-25T19:47:22.162Z"
   },
   {
    "duration": 6,
    "start_time": "2021-08-25T19:47:22.673Z"
   },
   {
    "duration": 23,
    "start_time": "2021-08-25T19:47:22.681Z"
   },
   {
    "duration": 20,
    "start_time": "2021-08-25T19:47:22.705Z"
   },
   {
    "duration": 12,
    "start_time": "2021-08-25T19:47:22.726Z"
   }
  ],
  "kernelspec": {
   "display_name": "Python 3",
   "language": "python",
   "name": "python3"
  },
  "language_info": {
   "codemirror_mode": {
    "name": "ipython",
    "version": 3
   },
   "file_extension": ".py",
   "mimetype": "text/x-python",
   "name": "python",
   "nbconvert_exporter": "python",
   "pygments_lexer": "ipython3",
   "version": "3.8.8"
  },
  "toc": {
   "base_numbering": 1,
   "nav_menu": {},
   "number_sections": true,
   "sideBar": true,
   "skip_h1_title": true,
   "title_cell": "Table of Contents",
   "title_sidebar": "Contents",
   "toc_cell": false,
   "toc_position": {},
   "toc_section_display": true,
   "toc_window_display": false
  }
 },
 "nbformat": 4,
 "nbformat_minor": 2
}
